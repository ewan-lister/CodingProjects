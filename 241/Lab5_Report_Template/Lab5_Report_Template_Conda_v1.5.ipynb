{
 "cells": [
  {
   "cell_type": "markdown",
   "metadata": {},
   "source": [
    "##### Author: Jimin Kim (jk55@uw.edu)\n",
    "##### Version 1.5.0"
   ]
  },
  {
   "cell_type": "markdown",
   "metadata": {},
   "source": [
    "# Lab 5 Report"
   ]
  },
  {
   "cell_type": "markdown",
   "metadata": {},
   "source": [
    "## Group Members:"
   ]
  },
  {
   "cell_type": "code",
   "execution_count": 6,
   "metadata": {},
   "outputs": [],
   "source": [
    "import numpy as np\n",
    "import pandas as pd\n",
    "import networkx as nx\n",
    "import matplotlib.pyplot as plt\n",
    "\n",
    "%matplotlib inline\n",
    "import dynworm as dw"
   ]
  },
  {
   "cell_type": "markdown",
   "metadata": {},
   "source": [
    "## Exercise 1: Visualize brain connectomes"
   ]
  },
  {
   "cell_type": "markdown",
   "metadata": {},
   "source": [
    "<img src=\"lab5_exercise1.png\" width=\"1000\">"
   ]
  },
  {
   "cell_type": "code",
   "execution_count": 11,
   "metadata": {},
   "outputs": [],
   "source": [
    "# Load synaptic connectome and neuron classes\n",
    "\n",
    "celegans_syn_conn_pd = pd.read_excel('connectome_syn.xlsx')\n",
    "celegans_syn_conn_np = np.array(celegans_syn_conn_pd)\n",
    "\n",
    "# Classes are ordered according to the neurons' order in synaptic connectome\n",
    "neuron_classes = np.load('neuron_classes.npy') "
   ]
  },
  {
   "cell_type": "code",
   "execution_count": 12,
   "metadata": {},
   "outputs": [
    {
     "name": "stdout",
     "output_type": "stream",
     "text": [
      "[[0 0 0 3 0 0 7 0 0 0]\n",
      " [0 0 1 0 7 0 0 0 0 0]\n",
      " [0 0 0 0 0 0 0 0 1 0]\n",
      " [0 0 0 0 0 0 2 0 0 0]\n",
      " [0 0 0 0 0 0 0 0 1 0]\n",
      " [0 0 0 0 0 0 0 0 0 0]\n",
      " [0 0 0 0 0 0 0 0 0 1]\n",
      " [0 0 0 0 2 0 0 0 0 1]\n",
      " [0 0 0 0 0 0 1 0 0 0]\n",
      " [0 0 0 0 0 0 0 0 0 0]]\n"
     ]
    }
   ],
   "source": [
    "# Adjacency matrix of the first 10 neurons\n",
    "print(celegans_syn_conn_np[:10, :10])"
   ]
  },
  {
   "cell_type": "code",
   "execution_count": 15,
   "metadata": {},
   "outputs": [
    {
     "name": "stdout",
     "output_type": "stream",
     "text": [
      "['sensory' 'sensory' 'sensory' 'sensory' 'sensory' 'sensory' 'sensory'\n",
      " 'sensory' 'sensory' 'sensory' 'sensory' 'sensory' 'sensory' 'sensory'\n",
      " 'inter' 'sensory' 'inter' 'sensory' 'sensory' 'sensory' 'sensory'\n",
      " 'sensory' 'sensory' 'motor' 'inter' 'sensory' 'sensory' 'inter' 'motor'\n",
      " 'sensory' 'sensory' 'sensory' 'sensory' 'sensory' 'motor' 'sensory'\n",
      " 'motor' 'sensory' 'motor' 'sensory' 'motor' 'inter' 'motor' 'sensory'\n",
      " 'inter' 'motor' 'sensory' 'inter' 'inter' 'sensory' 'inter' 'motor'\n",
      " 'sensory' 'motor' 'sensory' 'inter' 'inter' 'sensory' 'inter' 'sensory'\n",
      " 'sensory' 'motor' 'sensory' 'inter' 'inter' 'sensory' 'inter' 'motor'\n",
      " 'sensory' 'sensory' 'sensory' 'inter' 'sensory' 'sensory' 'sensory'\n",
      " 'sensory' 'sensory' 'inter' 'sensory' 'inter' 'sensory' 'sensory'\n",
      " 'sensory' 'inter' 'motor' 'motor' 'inter' 'motor' 'motor' 'sensory'\n",
      " 'inter' 'inter' 'motor' 'inter' 'inter' 'motor' 'inter' 'inter' 'sensory'\n",
      " 'inter']\n"
     ]
    }
   ],
   "source": [
    "# Neuron classes of the first 10 neurons\n",
    "print(neuron_classes[:100])"
   ]
  },
  {
   "cell_type": "code",
   "execution_count": 16,
   "metadata": {},
   "outputs": [
    {
     "ename": "SyntaxError",
     "evalue": "invalid syntax (21383857.py, line 27)",
     "output_type": "error",
     "traceback": [
      "\u001b[0;36m  Input \u001b[0;32mIn [16]\u001b[0;36m\u001b[0m\n\u001b[0;31m    else if sen_mask_arr[i] and sen_mask_arr[j]:\u001b[0m\n\u001b[0m         ^\u001b[0m\n\u001b[0;31mSyntaxError\u001b[0m\u001b[0;31m:\u001b[0m invalid syntax\n"
     ]
    }
   ],
   "source": [
    "def vis_conn(syn_conn, neuron_classes):\n",
    "    \n",
    "    # YOUR CODE HERE\n",
    "    # The function should output a 1 x 3 subplot\n",
    "    # For each subplot, make sure to set plt.ylim(len(sub_adjacency_matrix), 0) so that first row starts with neuron 0\n",
    "    # Add appropriate x,y labels for each subplot (e.g. sensory vs sensory, inter vs inter, etc)\n",
    "    \n",
    "    sensor_mask_arr = []\n",
    "    inter_mask_arr = []\n",
    "    motor_mask_arr = []\n",
    "    \n",
    "    dimension = len(syn_conn)\n",
    "\n",
    "    # Generating boolean integer masks for the three types of neuron.\n",
    "    for i in range(len(neuron_classes)):\n",
    "        sensor_mask_arr.append(int(neuron_classes[i] == 'sensory'))\n",
    "        inter_mask_arr.append(int(neuron_classes[i] == 'inter'))\n",
    "        motor_mask_arr.append(int(neuron_classes[i] == 'motor'))\n",
    "    \n",
    "    # sensor_mask\n",
    "    # sensor_plot = syn_conn[:, sensor_mask][sensor_mask, :]\n",
    "    # \n",
    "    sensor_arr = np.zeros((dimension, dimension))\n",
    "    inter_arr = np.zeros((dimension, dimension))\n",
    "    motor_arr = np.zeros((dimension, dimension))\n",
    "    \n",
    "    for i in range(len(neuron_classes)):\n",
    "        for j in range(len(neuron_classes)):\n",
    "            if sensor_mask_arr[i] and sensor_mask_arr[j]:\n",
    "                sen_arr[i][j] = syn_conn[i][j]\n",
    "            elif inter_mask_arr[i] and inter_mask_arr[j]:\n",
    "                inter_arr[i][j] = syn_conn[i][j]\n",
    "            elif motor_mask_arr[i] and motor_mask_arr[j]:\n",
    "                motor_arr[i][j] = syn_conn[i][j]\n",
    "            else:\n",
    "                sensor_arr[i][j] = 0\n",
    "                inter_arr[i][j] = 0\n",
    "                motor_arr[i][j] = 0\n",
    "            \n",
    "    fig, (sen, int, mot) = plt.subplots(1,3)\n",
    "    plt.figure(figsize=(10,10))\n",
    "    plt.pcolor(directed_adj_mat, cmap = 'Greys', vmin = 0, vmax = 1)\n",
    "    plt.ylim(len(directed_adj_mat), 0)\n",
    "    plt.xticks(fontsize=40)\n",
    "    plt.yticks(fontsize=40)\n",
    "    plt.show()\n",
    "    \n",
    "    \n",
    "    "
   ]
  },
  {
   "cell_type": "code",
   "execution_count": null,
   "metadata": {},
   "outputs": [
    {
     "name": "stdout",
     "output_type": "stream",
     "text": [
      "[True, True, True, True, True, True, True, True, True, True, True, True, True, True, False, True, False, True, True, True, True, True, True, False, False, True, True, False, False, True, True, True, True, True, False, True, False, True, False, True, False, False, False, True, False, False, True, False, False, True, False, False, True, False, True, False, False, True, False, True, True, False, True, False, False, True, False, False, True, True, True, False, True, True, True, True, True, False, True, False, True, True, True, False, False, False, False, False, False, True, False, False, False, False, False, False, False, False, True, False, False, False, False, False, True, False, False, False, False, False, False, False, False, True, False, False, False, False, False, False, False, True, False, False, False, False, False, False, False, False, False, False, False, False, False, False, False, False, False, False, False, False, False, True, True, False, False, True, False, True, False, True, False, False, False, False, False, False, False, False, False, False, False, False, False, False, False, False, False, False, False, False, False, False, False, False, False, False, False, False, False, False, False, False, False, False, False, False, False, False, False, False, True, False, False, False, True, True, False, False, False, False, False, False, False, False, False, False, False, False, False, False, False, False, False, False, False, False, False, False, True, False, True, False, False, True, True, True, False, False, False, False, False, False, False, False, False, False, False, False, False, False, False, False, False, False, False, False, False, False, False, False, False, False, False, False, True, True, False, True, False, False, True, True, True, False, True, False, True, False, False, False, True, True, True, False, True, False, True]\n"
     ]
    },
    {
     "ename": "NameError",
     "evalue": "name 'directed_adj_mat' is not defined",
     "output_type": "error",
     "traceback": [
      "\u001b[0;31m---------------------------------------------------------------------------\u001b[0m",
      "\u001b[0;31mNameError\u001b[0m                                 Traceback (most recent call last)",
      "Input \u001b[0;32mIn [17]\u001b[0m, in \u001b[0;36m<cell line: 3>\u001b[0;34m()\u001b[0m\n\u001b[1;32m      1\u001b[0m \u001b[38;5;66;03m# Test your function here\u001b[39;00m\n\u001b[0;32m----> 3\u001b[0m \u001b[43mvis_conn\u001b[49m\u001b[43m(\u001b[49m\u001b[43mcelegans_syn_conn_np\u001b[49m\u001b[43m,\u001b[49m\u001b[43m \u001b[49m\u001b[43mneuron_classes\u001b[49m\u001b[43m)\u001b[49m\n",
      "Input \u001b[0;32mIn [16]\u001b[0m, in \u001b[0;36mvis_conn\u001b[0;34m(syn_conn, neuron_classes)\u001b[0m\n\u001b[1;32m     17\u001b[0m \u001b[38;5;28mprint\u001b[39m(sen_mask_arr)\n\u001b[1;32m     19\u001b[0m fig \u001b[38;5;241m=\u001b[39m plt\u001b[38;5;241m.\u001b[39mfigure(figsize\u001b[38;5;241m=\u001b[39m(\u001b[38;5;241m10\u001b[39m,\u001b[38;5;241m10\u001b[39m))\n\u001b[0;32m---> 21\u001b[0m plt\u001b[38;5;241m.\u001b[39mpcolor(\u001b[43mdirected_adj_mat\u001b[49m, cmap \u001b[38;5;241m=\u001b[39m \u001b[38;5;124m'\u001b[39m\u001b[38;5;124mGreys\u001b[39m\u001b[38;5;124m'\u001b[39m, vmin \u001b[38;5;241m=\u001b[39m \u001b[38;5;241m0\u001b[39m, vmax \u001b[38;5;241m=\u001b[39m \u001b[38;5;241m1\u001b[39m)\n\u001b[1;32m     22\u001b[0m plt\u001b[38;5;241m.\u001b[39mylim(\u001b[38;5;28mlen\u001b[39m(directed_adj_mat), \u001b[38;5;241m0\u001b[39m)\n\u001b[1;32m     23\u001b[0m plt\u001b[38;5;241m.\u001b[39mxticks(fontsize\u001b[38;5;241m=\u001b[39m\u001b[38;5;241m40\u001b[39m)\n",
      "\u001b[0;31mNameError\u001b[0m: name 'directed_adj_mat' is not defined"
     ]
    },
    {
     "data": {
      "text/plain": [
       "<Figure size 720x720 with 0 Axes>"
      ]
     },
     "metadata": {},
     "output_type": "display_data"
    }
   ],
   "source": [
    "# Test your function here\n",
    "\n",
    "vis_conn(celegans_syn_conn_np, neuron_classes)"
   ]
  },
  {
   "cell_type": "markdown",
   "metadata": {},
   "source": [
    "## Exercise 2: Locating the most connected vertices"
   ]
  },
  {
   "cell_type": "markdown",
   "metadata": {},
   "source": [
    "<img src=\"lab5_exercise2.png\" width=\"1000\">"
   ]
  },
  {
   "cell_type": "code",
   "execution_count": null,
   "metadata": {},
   "outputs": [],
   "source": [
    "# Load the synaptic connectome and sample social network\n",
    "\n",
    "syn_conn_pd = pd.read_excel('connectome_syn.xlsx')\n",
    "syn_conn_np = np.array(syn_conn_pd)\n",
    "\n",
    "social_network_sample_pd = pd.read_excel('social_network_sample.xlsx')\n",
    "social_network_sample_np = np.array(social_network_sample_pd)"
   ]
  },
  {
   "cell_type": "code",
   "execution_count": null,
   "metadata": {},
   "outputs": [],
   "source": [
    "def find_hub_vertices(adj_mat, num_vertices):\n",
    "    \n",
    "    # YOUR CODE HERE\n",
    "    \n",
    "    return indegree_list, outdegree_list"
   ]
  },
  {
   "cell_type": "code",
   "execution_count": null,
   "metadata": {},
   "outputs": [],
   "source": [
    "# Test your function with synaptic connectome\n",
    "\n",
    "indegree_list_syn_conn, outdegree_list_syn_conn = find_hub_vertices(adj_mat = syn_conn_np, num_vertices = 10)"
   ]
  },
  {
   "cell_type": "code",
   "execution_count": null,
   "metadata": {},
   "outputs": [],
   "source": [
    "print(indegree_list_syn_conn)"
   ]
  },
  {
   "cell_type": "code",
   "execution_count": null,
   "metadata": {},
   "outputs": [],
   "source": [
    "print(outdegree_list_syn_conn)"
   ]
  },
  {
   "cell_type": "code",
   "execution_count": null,
   "metadata": {},
   "outputs": [],
   "source": [
    "# Test your function with sample social media network\n",
    "\n",
    "indegree_list_SN, outdegree_list_SN = find_hub_vertices(adj_mat = social_network_sample_np, num_vertices = 5)"
   ]
  },
  {
   "cell_type": "code",
   "execution_count": null,
   "metadata": {},
   "outputs": [],
   "source": [
    "print(indegree_list_SN)"
   ]
  },
  {
   "cell_type": "code",
   "execution_count": null,
   "metadata": {},
   "outputs": [],
   "source": [
    "print(outdegree_list_SN)"
   ]
  },
  {
   "cell_type": "markdown",
   "metadata": {},
   "source": [
    "## Exercise 3: Removing vertices from a graph"
   ]
  },
  {
   "cell_type": "markdown",
   "metadata": {},
   "source": [
    "<img src=\"lab5_exercise3.png\" width=\"1000\">"
   ]
  },
  {
   "cell_type": "code",
   "execution_count": null,
   "metadata": {},
   "outputs": [],
   "source": [
    "# We will use the pre-existing directed graph sample earlier in the lab\n",
    "\n",
    "directed_adj_mat_pd = pd.read_excel('directed_sample.xlsx')\n",
    "directed_adj_mat_np = np.array(directed_adj_mat_pd)"
   ]
  },
  {
   "cell_type": "code",
   "execution_count": null,
   "metadata": {},
   "outputs": [],
   "source": [
    "def remove_vertices(adj_mat, vertices_2b_removed):\n",
    "    \n",
    "    # YOUR CODE HERE\n",
    "    \n",
    "    return adj_mat_new"
   ]
  },
  {
   "cell_type": "code",
   "execution_count": null,
   "metadata": {},
   "outputs": [],
   "source": [
    "vertices_2b_removed_1 = [0, 5]        # Vertices to be removed set 1\n",
    "vertices_2b_removed_2 = [1, 2, 6]     # Vertices to be removed set 2"
   ]
  },
  {
   "cell_type": "code",
   "execution_count": null,
   "metadata": {},
   "outputs": [],
   "source": [
    "# Test your function with set 1\n",
    "\n",
    "directed_adj_mat_new_1 = remove_vertices(adj_mat = directed_adj_mat_np, vertices_2b_removed = vertices_2b_removed_1)"
   ]
  },
  {
   "cell_type": "code",
   "execution_count": null,
   "metadata": {},
   "outputs": [],
   "source": [
    "# Test your function with set 2\n",
    "\n",
    "directed_adj_mat_new_2 = remove_vertices(adj_mat = directed_adj_mat_np, vertices_2b_removed = vertices_2b_removed_2)"
   ]
  },
  {
   "cell_type": "markdown",
   "metadata": {},
   "source": [
    "### Original graph image for reference"
   ]
  },
  {
   "cell_type": "markdown",
   "metadata": {},
   "source": [
    "<img src=\"directed_sample_graph.png\" width=\"400\">"
   ]
  },
  {
   "cell_type": "code",
   "execution_count": null,
   "metadata": {},
   "outputs": [],
   "source": [
    "# Using networkX, plot your directed graph with removed vertices according to vertices_2b_removed_1\n",
    "# Use circular graph layout\n",
    "# Label your edges according to their weights\n",
    "\n",
    "# YOUR CODE HERE"
   ]
  },
  {
   "cell_type": "code",
   "execution_count": null,
   "metadata": {},
   "outputs": [],
   "source": [
    "# Using networkX, plot your directed graph with removed vertices according to vertices_2b_removed_2\n",
    "# Use circular graph layout\n",
    "# Label your edges according to their weights\n",
    "\n",
    "# YOUR CODE HERE"
   ]
  },
  {
   "cell_type": "markdown",
   "metadata": {},
   "source": [
    "## Exercise 4: Adding a new vertex to a graph"
   ]
  },
  {
   "cell_type": "markdown",
   "metadata": {},
   "source": [
    "<img src=\"lab5_exercise4.png\" width=\"1000\">"
   ]
  },
  {
   "cell_type": "code",
   "execution_count": null,
   "metadata": {},
   "outputs": [],
   "source": [
    "# We will use the pre-existing directed graph sample earlier in the lab\n",
    "# The graph has 7 vertices\n",
    "\n",
    "directed_adj_mat_pd = pd.read_excel('directed_sample.xlsx')\n",
    "directed_adj_mat_np = np.array(directed_adj_mat_pd)"
   ]
  },
  {
   "cell_type": "code",
   "execution_count": null,
   "metadata": {},
   "outputs": [],
   "source": [
    "def add_vertex(adj_mat, outgoing_edges, incoming_edges):\n",
    "    \n",
    "    # YOUR CODE HERE\n",
    "    # The original directed graph has 7 vertices\n",
    "    # The new vertex to be added can be regarded as 8th vertex of the graph\n",
    "    # You can assume that each edge being added has weight of 1\n",
    "    \n",
    "    return adj_mat_new"
   ]
  },
  {
   "cell_type": "code",
   "execution_count": null,
   "metadata": {},
   "outputs": [],
   "source": [
    "# Define outgoing and incoming edges for the new vertex to be added\n",
    "\n",
    "outgoing_edges = [2, 3, 5]\n",
    "incoming_edges = [3, 4, 6]"
   ]
  },
  {
   "cell_type": "code",
   "execution_count": null,
   "metadata": {},
   "outputs": [],
   "source": [
    "# Test your function with provided list of outgoing/incoming edges\n",
    "\n",
    "directed_adj_mat_vertex_added = add_vertex(adj_mat = directed_adj_mat_np, \n",
    "                                  outgoing_edges = outgoing_edges, \n",
    "                                  incoming_edges = incoming_edges)"
   ]
  },
  {
   "cell_type": "markdown",
   "metadata": {},
   "source": [
    "### Original graph image for reference"
   ]
  },
  {
   "cell_type": "markdown",
   "metadata": {},
   "source": [
    "<img src=\"directed_sample_graph.png\" width=\"400\">"
   ]
  },
  {
   "cell_type": "code",
   "execution_count": null,
   "metadata": {},
   "outputs": [],
   "source": [
    "# Using networkX, plot your directed graph with added vertices according to outgoing_edges and incoming_edges\n",
    "# Use circular graph layout\n",
    "# Label your edges according to their weights\n",
    "\n",
    "# YOUR CODE HERE"
   ]
  },
  {
   "cell_type": "markdown",
   "metadata": {},
   "source": [
    "## Exercise 5: Re-wire neurons to restore behavior of C. elegans"
   ]
  },
  {
   "cell_type": "markdown",
   "metadata": {},
   "source": [
    "<img src=\"lab5_exercise5.png\" width=\"1000\">"
   ]
  },
  {
   "cell_type": "markdown",
   "metadata": {},
   "source": [
    "### Note: If you wish to use the included C. elegans simulation code in lab template folder outside of EE 241 (e.g. research purpose), please cite the following paper \n",
    "### Kim, J., Leahy, W., & Shlizerman, E. (2019). Neural interactome: Interactive simulation of a neuronal system. Frontiers in Computational Neuroscience, 13, 8. "
   ]
  },
  {
   "cell_type": "code",
   "execution_count": null,
   "metadata": {},
   "outputs": [],
   "source": [
    "# Load synaptic connectome and neuron classes\n",
    "\n",
    "damaged_syn_conn_pd = pd.read_excel('connectome_syn.xlsx')\n",
    "damaged_syn_conn_np = np.array(damaged_syn_conn_pd)"
   ]
  },
  {
   "cell_type": "markdown",
   "metadata": {},
   "source": [
    "## Motorneurons' activities during gentle tail touch (Damaged brain)"
   ]
  },
  {
   "cell_type": "markdown",
   "metadata": {},
   "source": [
    "<img src=\"damaged_AVA_motor_activities.png\" width=\"450\">"
   ]
  },
  {
   "cell_type": "markdown",
   "metadata": {},
   "source": [
    "## Simulated body movement during gentle tail touch (Damaged brain)"
   ]
  },
  {
   "cell_type": "code",
   "execution_count": null,
   "metadata": {},
   "outputs": [],
   "source": [
    "from ipywidgets import Video\n",
    "\n",
    "Video.from_file(\"escape_response_damaged.mp4\", width=500, height=500)"
   ]
  },
  {
   "cell_type": "code",
   "execution_count": null,
   "metadata": {},
   "outputs": [],
   "source": [
    "# Re-wiring instructions for AVAL and AVAR neurons\n",
    "\n",
    "outgoing_AVAL_triples = np.load('AVAL_outgoing_triples.npy') # AVAL is the 47th vertex in the graph\n",
    "incoming_AVAL_triples = np.load('AVAL_incoming_triples.npy') # AVAL is the 47th vertex in the graph\n",
    "\n",
    "outgoing_AVAR_triples = np.load('AVAR_outgoing_triples.npy') # AVAR is the 55th vertex in the graph\n",
    "incoming_AVAR_triples = np.load('AVAR_incoming_triples.npy') # AVAR is the 55th vertex in the graph\n",
    "\n",
    "# Each row in the triple is ordered as [Source neuron index, Target neuron index, Synaptic weight]\n",
    "\n",
    "rewiring_triples_AVAL = [outgoing_AVAL_triples, incoming_AVAL_triples]\n",
    "rewiring_triples_AVAR = [outgoing_AVAR_triples, incoming_AVAR_triples]"
   ]
  },
  {
   "cell_type": "code",
   "execution_count": null,
   "metadata": {},
   "outputs": [],
   "source": [
    "def rewire_neurons(damaged_synaptic_adj_matrix, rewiring_instructions_AVAL, rewiring_instructions_AVAR):\n",
    "    \n",
    "    # YOUR CODE HERE\n",
    "    # AVAL, AVAR neurons take the indices of 47, 55 respectively in the damaged_syn_conn_np   \n",
    "    \n",
    "    return repaired_synaptic_adj_matrix"
   ]
  },
  {
   "cell_type": "code",
   "execution_count": null,
   "metadata": {},
   "outputs": [],
   "source": [
    "repaired_synaptic_adj_matrix = rewire_neurons(damaged_synaptic_adj_matrix = damaged_syn_conn_np, \n",
    "                                              rewiring_instructions_AVAL = rewiring_triples_AVAL, \n",
    "                                              rewiring_instructions_AVAR = rewiring_triples_AVAR)"
   ]
  },
  {
   "cell_type": "code",
   "execution_count": null,
   "metadata": {
    "scrolled": false
   },
   "outputs": [],
   "source": [
    "# Test your repaired connectome \n",
    "\n",
    "dw.network_sim.test_brain_repair(repaired_synaptic_adj_matrix) \n",
    "\n",
    "# If successfully repaired, function will output \n",
    "# 1) Motorneurons activity \n",
    "# 2) Simulated body movement video with repaired brain"
   ]
  }
 ],
 "metadata": {
  "interpreter": {
   "hash": "81dee2cd6cea41cbe3e439a16d5bc7fdfb70c699fad32b3bda38329b5ea8f91b"
  },
  "kernelspec": {
   "display_name": "Python 3.9.12 64-bit ('base': conda)",
   "name": "python3"
  },
  "language_info": {
   "codemirror_mode": {
    "name": "ipython",
    "version": 3
   },
   "file_extension": ".py",
   "mimetype": "text/x-python",
   "name": "python",
   "nbconvert_exporter": "python",
   "pygments_lexer": "ipython3",
   "version": "3.9.12"
  }
 },
 "nbformat": 4,
 "nbformat_minor": 5
}