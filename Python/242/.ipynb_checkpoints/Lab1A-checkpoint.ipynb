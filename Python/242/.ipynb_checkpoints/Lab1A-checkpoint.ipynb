{
 "cells": [
  {
   "cell_type": "markdown",
   "metadata": {},
   "source": [
    "## EE 242 Lab 1a – Modifying Signals - Sampling and Amplifying\n",
    "\n",
    "Tyson, Ewan, Sean\n",
    "\n",
    "This lab has 2 exercises to be completed as a team. Each should be given a separate code cell in your Notebook, followed by a markdown cell with report discussion. Your notebook should start with a markdown title and overview cell, which should be followed by an import cell that has the import statements for all assignments. For this assignment, you will need to import: numpy, the wavfile package from scipy.io, simpleaudio/librosa, and matplotlib.pyplot.  "
   ]
  },
  {
   "cell_type": "code",
   "execution_count": 19,
   "metadata": {},
   "outputs": [],
   "source": [
    "# We'll refer to this as the \"import cell.\" Every module you import should be imported here.\n",
    "%matplotlib notebook\n",
    "import numpy as np\n",
    "import matplotlib\n",
    "import scipy.signal as sig\n",
    "import matplotlib.pyplot as plt\n",
    "from librosa import display\n",
    "import simpleaudio\n",
    "import soundfile as sf\n",
    "import IPython\n",
    "\n",
    "\n",
    "# import whatever other modules you use in this lab -- there are more that you need than we've included "
   ]
  },
  {
   "cell_type": "markdown",
   "metadata": {},
   "source": [
    "## Summary\n",
    "\n",
    "In this lab, you will work through a series of exercises to introduce you to working with audio signals and explore the impact of different amplitude and time operations on signals.  This is a two-week lab.  You should plan on completing the first 2 assignments in the first week."
   ]
  },
  {
   "cell_type": "markdown",
   "metadata": {},
   "source": [
    "## Lab 1a turn in checklist\n",
    "\n",
    "•\tLab 1a Jupyter notebook with code for the 2 exercises assignment in separate cells. Each assignment cell should contain markdown cells (same as lab overview cells) for the responses to lab report questions. Include your lab members’ names at the top of the notebook.\n",
    "\n",
    "**Please submit the report as PDF**\n",
    "\n",
    "\n"
   ]
  },
  {
   "cell_type": "markdown",
   "metadata": {
    "tags": []
   },
   "source": [
    "## Assignment 1 -- Working with sound files\n",
    "\n",
    "Start a new cell following the guidelines in the Lab 1a template, dividing it into Parts A-C.\n",
    "\n",
    "**A.**  Download the train.wav sound file provided. Read in the file saving the audio vector and sampling frequency in variables x1 and fs1, respectively. Print the sampling rate (which should be 32kHz) and the shape of x1, which will tell you the length and number of channels.  \n",
    "\n",
    "**B.**  Write out two new versions of the file in wav format using different sampling rates: fs2=fs1/2 (16 kHz) and fs3=1.5*fs1. \n",
    "\n",
    "**C.**  Read in the three different versions of the train sound file and play each one.   "
   ]
  },
  {
   "cell_type": "code",
   "execution_count": 7,
   "metadata": {},
   "outputs": [],
   "source": [
    "# Assignment 1 - Time Scaling Function\n",
    "\n",
    "\n",
    "# Start with a comment section that explains what the input and output variables are, e.g.\n",
    "# x: input signal vector\n",
    "# fs: sampling rate (in Hz)\n",
    "# a: scaling parameter. This has to be a decimal value for as_integer_ratio to work. \n",
    "# So, explicitly casting it into a float or a double or any fractional data type will help.\n",
    "# returns t: time samples vector corresponding to y: scaled signal\n",
    "\n",
    "def timescale(x, fs, a):\n",
    "    #n, d = decimal.Decimal(a).as_integer_ratio()\n",
    "    [n, d] = (np.double(a)).as_integer_ratio()\n",
    "    y = sig.resample_poly(x,d,n)\n",
    "    t = np.arange(0,len(y),1)*(1.0/fs)\n",
    "    return y,t\n"
   ]
  },
  {
   "cell_type": "code",
   "execution_count": null,
   "metadata": {},
   "outputs": [],
   "source": [
    "# Assignment 1 - Playing and Plotting Time Scaled Audio Files \n",
    "\n",
    "# Part A\n",
    "# TODO: Code that solves A\n",
    "# Download the train.wav sound file provided. Read in the file saving \n",
    "# the audio vector and sampling frequency in variables x1 and fs1, respectively. \n",
    "# Print the sampling rate (which should be 32kHz) and the shape of x1, which will \n",
    "# tell you the length and number of channels.\n",
    "\n",
    "# Query for filename.\n",
    "filename = input(\"Input the directory of the file you wish to play: \")\n",
    "\n",
    "file_string = \"/Users/ewanlister/Desktop/UW 2022-2023/Fall 2022/242/train32.wav\"\n",
    "# Load audio signal x1 and sampling rate fs1.\n",
    "x1, fs1 = sf.read(filename)\n",
    "\n",
    "# Printing sampling rate, rolled out array of x1, and graph of x1.\n",
    "print(\"Sampling rate: \" + str(fs1) + \"Hz\")\n",
    "print(x1)\n",
    "librosa.display.waveshow(x1, sr=fs1)\n",
    "IPython.display.Audio(filename)\n",
    "\n",
    "\n",
    "# Part B\n",
    "# TODO: Code that solves B\n",
    "# Write out two new versions of the file in wav \n",
    "# format using different sampling rates: fs2=fs1/2 (16 kHz) and fs3=1.5*fs1.\n",
    "\n",
    "slow_file_name = \"slowtrain.wav\"\n",
    "fast_file_name = \"fasttrain.wav\"\n",
    "\n",
    "fs2 = fs1 // 2\n",
    "fs3 = int(fs1 * 1.5)\n",
    "\n",
    "sf.write(slow_file_name, x1, fs2)\n",
    "\n",
    "# Part C\n",
    "# TODO: Code that solves C"
   ]
  },
  {
   "cell_type": "markdown",
   "metadata": {},
   "source": [
    "###  Discussion\n",
    "\n",
    "Comment on how the audio changes when the incorrect sampling frequency is used.\n"
   ]
  },
  {
   "cell_type": "markdown",
   "metadata": {},
   "source": [
    "## Assignment 2 -- Amplitude Operations on Signals\n",
    "\n",
    "Again, following the guidelines in the Lab 1 template, start a new cell and write a script to meet the following specifications. This assignment will have four parts, A-C, each of which should be indicated with comments.  \n",
    "\n",
    "**A.**  Create a discrete time signal s1 that is the same length as x1 and has value 1 for t=[0,0.5] and value 0.2 for t>0.5.  You can use the command below where len1 is the length of x1 and n0 is the index corresponding to t=0.5 s1 = np.concatenate((np.ones(n0),0.2*np.ones(len(x1)-n0)) \n",
    "Multiply x1 with s1 to create v1. Save this signal to a wav file. \n",
    "\n",
    "**B.**  Create a discrete-time decaying ramp signal r1, that is the same length as x1. The signal should have value 1 at time 0 and linearly decay to value 0.  (Hint: use numpy.arange.) Multiply x1 with r1 to create v2. Save this signal to a wav file.  \n",
    "\n",
    "**C.**  Read in v1 and v2 and play the two different modifications together with the original, to verify that the volume of the second whistle is reduced. \n",
    "\n",
    "Ensure to play all the signals for the TAs"
   ]
  },
  {
   "cell_type": "code",
   "execution_count": 4,
   "metadata": {
    "tags": []
   },
   "outputs": [],
   "source": [
    "# Assignment 2 - Amplitude Operations on Signals\n",
    "\n",
    "# Part A\n",
    "# TODO: Code that solves A\n",
    "# Start with a comment section that explains what the input variables are\n"
   ]
  },
  {
   "cell_type": "code",
   "execution_count": 5,
   "metadata": {},
   "outputs": [],
   "source": [
    "# Assignment 2 - Title of Assignment 2\n",
    "\n",
    "# Part B\n",
    "# TODO: Code that solves B\n",
    "\n",
    "# Part C\n",
    "# TODO: Code that solves C\n"
   ]
  },
  {
   "cell_type": "markdown",
   "metadata": {},
   "source": [
    "###  Discussion\n",
    "\n",
    "Discuss the differences that the two modifications have on the signal. What would happen if you defined s1 to take value 2 for the [0,0.5] range? If you wanted a smooth but faster decay in amplitude, what signal might you use?  "
   ]
  }
 ],
 "metadata": {
  "kernelspec": {
   "display_name": "Python 3 (ipykernel)",
   "language": "python",
   "name": "python3"
  },
  "language_info": {
   "codemirror_mode": {
    "name": "ipython",
    "version": 3
   },
   "file_extension": ".py",
   "mimetype": "text/x-python",
   "name": "python",
   "nbconvert_exporter": "python",
   "pygments_lexer": "ipython3",
   "version": "3.9.12"
  }
 },
 "nbformat": 4,
 "nbformat_minor": 4
}
