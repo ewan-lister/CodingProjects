{
 "cells": [
  {
   "cell_type": "markdown",
   "id": "c3cf7e0d-82f8-4b9f-9657-b986e07efca0",
   "metadata": {},
   "source": [
    "# ECE 242 Homework 2 (Due Oct 26, 5 PM PT)"
   ]
  },
  {
   "cell_type": "markdown",
   "id": "5665c6aa-5862-4aa2-8d49-25d846c601d4",
   "metadata": {},
   "source": [
    "For t$\\in$R,n$\\in$Z: **u(t)** and **u[n]** represent the unit step functions and **r(t)** and **r[n]** represent the ramp functions in continuous and discrete time domains. **p(t)** = u(t)−u(t−1) is the unit pulse signal defined in class.\n",
    "\n",
    "Complete the following exercises and submit answers as PDF (File>Save and Export As... > PDF) (You may also use : https://www.vertopal.com/  suggested by a student)\n",
    "\n",
    "**1. For  each  of  the  following  systems  T{·},  determine  if  the  system  is  (i)  memoryless,  (ii)  causal,  (iii)  stable,  (iv) linear, (v) time-invariant. Prove your statements using the definitions for these conditions covered in lecture.**\n",
    "\n",
    "a. $T\\{x(t)\\} = -x(t+4)x(t)$\n",
    "\n",
    "b. $T\\{x[n]\\} =  x[4n+1]$\n",
    "\n",
    "c. $T\\{x[n]\\} =  \\left\\{\n",
    "\\begin{array}{ll}\n",
    "      x[n+1] & n \\geq 0 \\\\\n",
    "      x[n] & n < 0 \\\\\n",
    "\\end{array} \n",
    "\\right.  $\n",
    "\n",
    "d. $T\\{x(t)\\} = \\int_{-\\infty}^{-t} x(\\tau) d\\tau$\n",
    "\n",
    "e. $T\\{x(t)\\} = \\int_{-\\infty}^{0} \\tau^{-2}x(t-\\tau) d\\tau$\n",
    "\n",
    "**Ans.**\n"
   ]
  },
  {
   "cell_type": "markdown",
   "id": "977a205a-ab65-4da5-8f8b-5e2492b9adc2",
   "metadata": {},
   "source": [
    "**2. For  T {·}  in  question  1(a),  1(b),  and  1(c),  determine  if  the  system  is  invertible.  If  yes,  compute  the  inverse.  If no, demonstrate this fact mathematically.**\n",
    "\n",
    "**Ans.**"
   ]
  },
  {
   "cell_type": "markdown",
   "id": "c91e8187-de39-466a-8001-4235ad686b1d",
   "metadata": {},
   "source": [
    "**3. For an LTI sytem T {·}, an input x1(t) = p(t) is paired with an output signal y1(t) = T{x1(t)} = p(t) − p(t − 1). Knowing this, compute T{x2(t)} when x2(t) = p(t) − 2p(t − 1). Show all the steps and assumptions.**\n",
    "\n",
    "**Ans.**"
   ]
  }
 ],
 "metadata": {
  "kernelspec": {
   "display_name": "Python 3 (ipykernel)",
   "language": "python",
   "name": "python3"
  },
  "language_info": {
   "codemirror_mode": {
    "name": "ipython",
    "version": 3
   },
   "file_extension": ".py",
   "mimetype": "text/x-python",
   "name": "python",
   "nbconvert_exporter": "python",
   "pygments_lexer": "ipython3",
   "version": "3.9.12"
  }
 },
 "nbformat": 4,
 "nbformat_minor": 5
}
