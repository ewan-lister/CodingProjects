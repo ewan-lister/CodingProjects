{
 "cells": [
  {
   "cell_type": "markdown",
   "id": "800f4083",
   "metadata": {},
   "source": [
    "##### Author: Jimin Kim (jk55@uw.edu)\n",
    "##### Version 1.5.0"
   ]
  },
  {
   "cell_type": "markdown",
   "id": "17dc8d7d",
   "metadata": {},
   "source": [
    "# Lab 5 Report"
   ]
  },
  {
   "cell_type": "markdown",
   "id": "a0fe9884",
   "metadata": {},
   "source": [
    "## Group Members:"
   ]
  },
  {
   "cell_type": "code",
   "execution_count": 1,
   "id": "b33ed1c2",
   "metadata": {},
   "outputs": [],
   "source": [
    "import numpy as np\n",
    "import pandas as pd\n",
    "import networkx as nx\n",
    "import matplotlib.pyplot as plt\n",
    "\n",
    "%matplotlib inline\n",
    "import dynworm as dw"
   ]
  },
  {
   "cell_type": "markdown",
   "id": "b90d206f",
   "metadata": {},
   "source": [
    "## Exercise 1: Visualize brain connectomes"
   ]
  },
  {
   "cell_type": "markdown",
   "id": "f6480a08",
   "metadata": {},
   "source": [
    "<img src=\"lab5_exercise1.png\" width=\"1000\">"
   ]
  },
  {
   "cell_type": "code",
   "execution_count": 2,
   "id": "cba4b0e4",
   "metadata": {},
   "outputs": [],
   "source": [
    "# Load synaptic connectome and neuron classes\n",
    "\n",
    "celegans_syn_conn_pd = pd.read_excel('connectome_syn.xlsx')\n",
    "celegans_syn_conn_np = np.array(celegans_syn_conn_pd)\n",
    "\n",
    "# Classes are ordered according to the neurons' order in synaptic connectome\n",
    "neuron_classes = np.load('neuron_classes.npy') "
   ]
  },
  {
   "cell_type": "code",
   "execution_count": 3,
   "id": "ce3ee585",
   "metadata": {},
   "outputs": [
    {
     "name": "stdout",
     "output_type": "stream",
     "text": [
      "[[0 0 0 3 0 0 7 0 0 0]\n",
      " [0 0 1 0 7 0 0 0 0 0]\n",
      " [0 0 0 0 0 0 0 0 1 0]\n",
      " [0 0 0 0 0 0 2 0 0 0]\n",
      " [0 0 0 0 0 0 0 0 1 0]\n",
      " [0 0 0 0 0 0 0 0 0 0]\n",
      " [0 0 0 0 0 0 0 0 0 1]\n",
      " [0 0 0 0 2 0 0 0 0 1]\n",
      " [0 0 0 0 0 0 1 0 0 0]\n",
      " [0 0 0 0 0 0 0 0 0 0]]\n"
     ]
    }
   ],
   "source": [
    "# Adjacency matrix of the first 10 neurons\n",
    "print(celegans_syn_conn_np[:10, :10])"
   ]
  },
  {
   "cell_type": "code",
   "execution_count": 4,
   "id": "7afb8ecb",
   "metadata": {},
   "outputs": [
    {
     "name": "stdout",
     "output_type": "stream",
     "text": [
      "['sensory' 'sensory' 'sensory' 'sensory' 'sensory' 'sensory' 'sensory'\n",
      " 'sensory' 'sensory' 'sensory']\n"
     ]
    }
   ],
   "source": [
    "# Neuron classes of the first 10 neurons\n",
    "print(neuron_classes[:10])"
   ]
  },
  {
   "cell_type": "code",
   "execution_count": 5,
   "id": "ee9dd6ea",
   "metadata": {},
   "outputs": [],
   "source": [
    "def vis_conn(syn_conn, neuron_classes):\n",
    "    \n",
    "    # YOUR CODE HERE\n",
    "    # The function should output a 1 x 3 subplot\n",
    "    # For each subplot, make sure to set plt.ylim(len(sub_adjacency_matrix), 0) so that first row starts with neuron 0\n",
    "    # Add appropriate x,y labels for each subplot (e.g. sensory vs sensory, inter vs inter, etc)\n",
    "    \n",
    "    #Create boolean mask for each type of neuron\n",
    "    sensorBool = neuron_classes[:] == 'sensory'\n",
    "    interBool = neuron_classes[:] == 'inter'\n",
    "    motorBool = neuron_classes[:] == 'motor'\n",
    "    sensor = syn_conn[sensorBool, :]\n",
    "    sensor = syn_conn[:, sensorBool]\n",
    "    inter = syn_conn[interBool, :]\n",
    "    inter = syn_conn[:, interBool]\n",
    "    motor = syn_conn[motorBool, :]\n",
    "    motor = syn_conn[:, motorBool]\n",
    "#     for i in range (len(syn_conn[:][0])):\n",
    "#         if neuron_classes[i] != 'sensory':\n",
    "#             sensor[i][:] = 0\n",
    "#             sensor[:][i] = 0\n",
    "#         if neuron_classes[i] != 'inter':\n",
    "#             inter[i][:] = 0\n",
    "#             inter[:][i] = 0\n",
    "#         if neuron_classes[i] != 'motor':\n",
    "#             motor[i][:] = 0\n",
    "#             motor[:][i] = 0\n",
    "    fig = plt.figure(figsize = (10,20))\n",
    "    fig, axs = plt.subplots(1, 3)\n",
    "    axs[0].pcolor(sensor, cmap='Greys', vmin=0, vmax=1)\n",
    "    plt.ylim(len(syn_conn), 0)\n",
    "    axs[1].pcolor(inter, cmap='Greys', vmin=0, vmax=1)\n",
    "    plt.ylim(len(syn_conn), 0)\n",
    "    axs[2].pcolor(sensor, cmap='Greys', vmin=0, vmax=1)\n",
    "    plt.ylim(len(syn_conn), 0)\n",
    "    plt.show()\n",
    "    \n",
    "    return"
   ]
  },
  {
   "cell_type": "code",
   "execution_count": 6,
   "id": "c6da5b95",
   "metadata": {},
   "outputs": [
    {
     "data": {
      "text/plain": [
       "<Figure size 720x1440 with 0 Axes>"
      ]
     },
     "metadata": {},
     "output_type": "display_data"
    },
    {
     "data": {
      "image/png": "[encoded data removed]",
      "text/plain": [
       "<Figure size 432x288 with 3 Axes>"
      ]
     },
     "metadata": {
      "needs_background": "light"
     },
     "output_type": "display_data"
    }
   ],
   "source": [
    "# Test your function here\n",
    "\n",
    "vis_conn(celegans_syn_conn_np, neuron_classes)"
   ]
  },
  {
   "cell_type": "markdown",
   "id": "4c865fa4",
   "metadata": {},
   "source": [
    "## Exercise 2: Locating the most connected vertices"
   ]
  },
  {
   "cell_type": "markdown",
   "id": "6429da1f",
   "metadata": {},
   "source": [
    "<img src=\"lab5_exercise2.png\" width=\"1000\">"
   ]
  },
  {
   "cell_type": "code",
   "execution_count": 7,
   "id": "0c54777e",
   "metadata": {},
   "outputs": [],
   "source": [
    "# Load the synaptic connectome and sample social network\n",
    "\n",
    "syn_conn_pd = pd.read_excel('connectome_syn.xlsx')\n",
    "syn_conn_np = np.array(syn_conn_pd)\n",
    "\n",
    "social_network_sample_pd = pd.read_excel('social_network_sample.xlsx')\n",
    "social_network_sample_np = np.array(social_network_sample_pd)"
   ]
  },
  {
   "cell_type": "code",
   "execution_count": 8,
   "id": "bc844453",
   "metadata": {},
   "outputs": [],
   "source": [
    "def find_hub_vertices(adj_mat, num_vertices):\n",
    "    \n",
    "    # YOUR CODE HERE\n",
    "    out_array = np.sum(adj_mat, axis=1)\n",
    "    in_array = np.sum(adj_mat, axis=0)\n",
    "    \n",
    "    out_tups = []\n",
    "    in_tups = []\n",
    "    indegree_list = []\n",
    "    outdegree_list = []\n",
    "    \n",
    "    for i in range (0, len(out_array)):\n",
    "        tup_out = (i, out_array[i])\n",
    "        tup_in  = (i, in_array[i])\n",
    "        \n",
    "        out_tups.append(tup_out)\n",
    "        in_tups.append(tup_in)\n",
    "        \n",
    "    out_tups.sort(key=lambda a: a[1])\n",
    "    in_tups.sort(key=lambda a: a[1])\n",
    "\n",
    "    indegree_temp = in_tups[:num_vertices]\n",
    "    outdegree_temp = out_tups[:num_vertices]\n",
    "    \n",
    "    for i in indegree_temp:\n",
    "        indegree_list.append(i[0])\n",
    "    for i in outdegree_temp:\n",
    "        outdegree_list.append(i[0])\n",
    "    \n",
    "    return indegree_list, outdegree_list"
   ]
  },
  {
   "cell_type": "code",
   "execution_count": 9,
   "id": "a79f5d92",
   "metadata": {},
   "outputs": [],
   "source": [
    "# Test your function with synaptic connectome\n",
    "\n",
    "indegree_list_syn_conn, outdegree_list_syn_conn = find_hub_vertices(adj_mat = syn_conn_np, num_vertices = 10)"
   ]
  },
  {
   "cell_type": "code",
   "execution_count": 10,
   "id": "445a6e15",
   "metadata": {},
   "outputs": [
    {
     "name": "stdout",
     "output_type": "stream",
     "text": [
      "[0, 5, 47, 55, 75, 89, 119, 178, 226, 252]\n"
     ]
    }
   ],
   "source": [
    "print(indegree_list_syn_conn)"
   ]
  },
  {
   "cell_type": "code",
   "execution_count": 11,
   "id": "bb23fdd1",
   "metadata": {},
   "outputs": [
    {
     "name": "stdout",
     "output_type": "stream",
     "text": [
      "[28, 34, 47, 55, 63, 77, 83, 97, 101, 123]\n"
     ]
    }
   ],
   "source": [
    "print(outdegree_list_syn_conn)"
   ]
  },
  {
   "cell_type": "code",
   "execution_count": 12,
   "id": "bd1190be",
   "metadata": {},
   "outputs": [],
   "source": [
    "# Test your function with sample social media network\n",
    "\n",
    "indegree_list_SN, outdegree_list_SN = find_hub_vertices(adj_mat = social_network_sample_np, num_vertices = 5)"
   ]
  },
  {
   "cell_type": "code",
   "execution_count": 13,
   "id": "0fa06518",
   "metadata": {},
   "outputs": [
    {
     "name": "stdout",
     "output_type": "stream",
     "text": [
      "[74, 94, 26, 37, 28]\n"
     ]
    }
   ],
   "source": [
    "print(indegree_list_SN)"
   ]
  },
  {
   "cell_type": "code",
   "execution_count": 14,
   "id": "71a8cab2",
   "metadata": {},
   "outputs": [
    {
     "name": "stdout",
     "output_type": "stream",
     "text": [
      "[41, 10, 50, 87, 47]\n"
     ]
    }
   ],
   "source": [
    "print(outdegree_list_SN)"
   ]
  },
  {
   "cell_type": "markdown",
   "id": "9116785a",
   "metadata": {},
   "source": [
    "## Exercise 3: Removing vertices from a graph"
   ]
  },
  {
   "cell_type": "markdown",
   "id": "320ff039",
   "metadata": {},
   "source": [
    "<img src=\"lab5_exercise3.png\" width=\"1000\">"
   ]
  },
  {
   "cell_type": "code",
   "execution_count": 15,
   "id": "d81e7a4d",
   "metadata": {},
   "outputs": [],
   "source": [
    "# We will use the pre-existing directed graph sample earlier in the lab\n",
    "\n",
    "directed_adj_mat_pd = pd.read_excel('directed_sample.xlsx')\n",
    "directed_adj_mat_np = np.array(directed_adj_mat_pd)"
   ]
  },
  {
   "cell_type": "code",
   "execution_count": 16,
   "id": "276477d2",
   "metadata": {},
   "outputs": [],
   "source": [
    "def remove_vertices(adj_mat, vertices_2b_removed):\n",
    "    \n",
    "    # YOUR CODE HERE\n",
    "    adj_mat_new = adj_mat\n",
    "    for i in vertices_2b_removed:\n",
    "        adj_mat_new[i,:] = 0\n",
    "        adj_mat_new[:,i] = 0\n",
    "    return adj_mat_new"
   ]
  },
  {
   "cell_type": "code",
   "execution_count": 17,
   "id": "6c1543fa",
   "metadata": {},
   "outputs": [],
   "source": [
    "vertices_2b_removed_1 = [0, 5]        # Vertices to be removed set 1\n",
    "vertices_2b_removed_2 = [1, 2, 6]     # Vertices to be removed set 2"
   ]
  },
  {
   "cell_type": "code",
   "execution_count": 18,
   "id": "8b7f5497",
   "metadata": {},
   "outputs": [],
   "source": [
    "# Test your function with set 1\n",
    "\n",
    "directed_adj_mat_new_1 = remove_vertices(adj_mat = directed_adj_mat_np, vertices_2b_removed = vertices_2b_removed_1)"
   ]
  },
  {
   "cell_type": "code",
   "execution_count": 19,
   "id": "530e952a",
   "metadata": {},
   "outputs": [],
   "source": [
    "# Test your function with set 2\n",
    "\n",
    "directed_adj_mat_new_2 = remove_vertices(adj_mat = directed_adj_mat_np, vertices_2b_removed = vertices_2b_removed_2)"
   ]
  },
  {
   "cell_type": "markdown",
   "id": "5b6cfc4b",
   "metadata": {},
   "source": [
    "### Original graph image for reference"
   ]
  },
  {
   "cell_type": "markdown",
   "id": "fdd560ec",
   "metadata": {},
   "source": [
    "<img src=\"directed_sample_graph.png\" width=\"400\">"
   ]
  },
  {
   "cell_type": "code",
   "execution_count": 20,
   "id": "1dea725f",
   "metadata": {},
   "outputs": [
    {
     "data": {
      "image/png": "[encoded data removed]",
      "text/plain": [
       "<Figure size 432x288 with 1 Axes>"
      ]
     },
     "metadata": {},
     "output_type": "display_data"
    }
   ],
   "source": [
    "# Using networkX, plot your directed graph with removed vertices according to vertices_2b_removed_1\n",
    "# Use circular graph layout\n",
    "# Label your edges according to their weights\n",
    "\n",
    "# YOUR CODE HERE\n",
    "directed_adj_mat_pd = pd.read_excel('directed_sample.xlsx')\n",
    "directed_adj_mat_np = np.array(directed_adj_mat_pd)\n",
    "directed_adj_mat_new_1 = remove_vertices(adj_mat = directed_adj_mat_np, vertices_2b_removed = vertices_2b_removed_1)\n",
    "\n",
    "# Convert the panda dataframe object to numpy\n",
    "\n",
    "# Convert numpy array into directed graph networkX object\n",
    "directed_adj_mat_nx = nx.from_numpy_array(directed_adj_mat_new_1, create_using=nx.DiGraph()) \n",
    "\n",
    "pos=nx.circular_layout(directed_adj_mat_nx) # Obtain positions of vertex according to circular graph layout\n",
    "\n",
    "# Use nx.draw_networkx() to plot the graph\n",
    "nx.draw_networkx(directed_adj_mat_nx, pos, with_labels = True, node_size = 750, node_color='grey')\n",
    "\n",
    "# Use nx.get_edge_attributes() to obtain the edge weights according to adjacency matrix\n",
    "labels = nx.get_edge_attributes(directed_adj_mat_nx,'weight')\n",
    "\n",
    "# Use nx.draw_networkx_edge_labels() to label the edges with the weights\n",
    "nx.draw_networkx_edge_labels(directed_adj_mat_nx, pos,edge_labels=labels)\n",
    "\n",
    "plt.axis('off')\n",
    "plt.show()"
   ]
  },
  {
   "cell_type": "code",
   "execution_count": 21,
   "id": "2b0659bb",
   "metadata": {},
   "outputs": [
    {
     "data": {
      "image/png": "[encoded data removed]",
      "text/plain": [
       "<Figure size 432x288 with 1 Axes>"
      ]
     },
     "metadata": {},
     "output_type": "display_data"
    }
   ],
   "source": [
    "# Using networkX, plot your directed graph with removed vertices according to vertices_2b_removed_2\n",
    "# Use circular graph layout\n",
    "# Label your edges according to their weights\n",
    "\n",
    "# YOUR CODE HERE\n",
    "directed_adj_mat_pd = pd.read_excel('directed_sample.xlsx')\n",
    "directed_adj_mat_np = np.array(directed_adj_mat_pd)\n",
    "directed_adj_mat_new_2 = remove_vertices(adj_mat = directed_adj_mat_np, vertices_2b_removed = vertices_2b_removed_2)\n",
    "\n",
    "# Convert the panda dataframe object to numpy\n",
    "\n",
    "# Convert numpy array into directed graph networkX object\n",
    "directed_adj_mat_nx = nx.from_numpy_array(directed_adj_mat_new_2, create_using=nx.DiGraph()) \n",
    "\n",
    "pos=nx.circular_layout(directed_adj_mat_nx) # Obtain positions of vertex according to circular graph layout\n",
    "\n",
    "# Use nx.draw_networkx() to plot the graph\n",
    "nx.draw_networkx(directed_adj_mat_nx, pos, with_labels = True, node_size = 750, node_color='grey')\n",
    "\n",
    "# Use nx.get_edge_attributes() to obtain the edge weights according to adjacency matrix\n",
    "labels = nx.get_edge_attributes(directed_adj_mat_nx,'weight')\n",
    "\n",
    "# Use nx.draw_networkx_edge_labels() to label the edges with the weights\n",
    "nx.draw_networkx_edge_labels(directed_adj_mat_nx, pos,edge_labels=labels)\n",
    "\n",
    "plt.axis('off')\n",
    "plt.show()"
   ]
  },
  {
   "cell_type": "markdown",
   "id": "47c41c2d",
   "metadata": {},
   "source": [
    "## Exercise 4: Adding a new vertex to a graph"
   ]
  },
  {
   "cell_type": "markdown",
   "id": "23a46441",
   "metadata": {},
   "source": [
    "<img src=\"lab5_exercise4.png\" width=\"1000\">"
   ]
  },
  {
   "cell_type": "code",
   "execution_count": 158,
   "id": "f0c61c1e",
   "metadata": {},
   "outputs": [],
   "source": [
    "# We will use the pre-existing directed graph sample earlier in the lab\n",
    "# The graph has 7 vertices\n",
    "\n",
    "directed_adj_mat_pd = pd.read_excel('directed_sample.xlsx')\n",
    "directed_adj_mat_np = np.array(directed_adj_mat_pd)"
   ]
  },
  {
   "cell_type": "code",
   "execution_count": 126,
   "id": "af235105",
   "metadata": {},
   "outputs": [],
   "source": [
    "def add_vertex(adj_mat, outgoing_edges, incoming_edges):\n",
    "    \n",
    "    # YOUR CODE HERE\n",
    "    # The original directed graph has 7 vertices\n",
    "    # The new vertex to be added can be regarded as 8th vertex of the graph\n",
    "    # You can assume that each edge being added has weight of 1\n",
    "    #out = axis 1, in = axis \n",
    "    adj_mat_new = adj_mat\n",
    "    #side_arr = \n",
    "    adj_mat_new = np.concatenate((adj_mat_new, [np.zeros((7), int)]))\n",
    "    adj_mat_new = np.concatenate((adj_mat_new, np.transpose([np.zeros((8), int)])), 1)\n",
    "    for i in range(8):\n",
    "        if i in outgoing_edges:\n",
    "            adj_mat_new[7][i] = i\n",
    "        if i in incoming_edges:\n",
    "            adj_mat_new[i][7] = i\n",
    "    return adj_mat_new"
   ]
  },
  {
   "cell_type": "code",
   "execution_count": 127,
   "id": "ac86f583",
   "metadata": {},
   "outputs": [],
   "source": [
    "# Define outgoing and incoming edges for the new vertex to be added\n",
    "\n",
    "outgoing_edges = [2, 3, 5]\n",
    "incoming_edges = [3, 4, 6]"
   ]
  },
  {
   "cell_type": "code",
   "execution_count": 128,
   "id": "47a06cdc",
   "metadata": {},
   "outputs": [],
   "source": [
    "# Test your function with provided list of outgoing/incoming edges\n",
    "\n",
    "directed_adj_mat_vertex_added = add_vertex(adj_mat = directed_adj_mat_np, \n",
    "                                  outgoing_edges = outgoing_edges, \n",
    "                                  incoming_edges = incoming_edges)"
   ]
  },
  {
   "cell_type": "markdown",
   "id": "7b060e9b",
   "metadata": {},
   "source": [
    "### Original graph image for reference"
   ]
  },
  {
   "cell_type": "markdown",
   "id": "d23d477c",
   "metadata": {},
   "source": [
    "<img src=\"directed_sample_graph.png\" width=\"400\">"
   ]
  },
  {
   "cell_type": "code",
   "execution_count": null,
   "id": "912b1255",
   "metadata": {},
   "outputs": [],
   "source": [
    "# Using networkX, plot your directed graph with added vertices according to outgoing_edges and incoming_edges\n",
    "# Use circular graph layout\n",
    "# Label your edges according to their weights\n",
    "\n",
    "# YOUR CODE HERE"
   ]
  },
  {
   "cell_type": "markdown",
   "id": "8569eb82",
   "metadata": {},
   "source": [
    "## Exercise 5: Re-wire neurons to restore behavior of C. elegans"
   ]
  },
  {
   "cell_type": "markdown",
   "id": "3d50cb16",
   "metadata": {},
   "source": [
    "<img src=\"lab5_exercise5.png\" width=\"1000\">"
   ]
  },
  {
   "cell_type": "markdown",
   "id": "243e2883",
   "metadata": {},
   "source": [
    "### Note: If you wish to use the included C. elegans simulation code in lab template folder outside of EE 241 (e.g. research purpose), please cite the following paper \n",
    "### Kim, J., Leahy, W., & Shlizerman, E. (2019). Neural interactome: Interactive simulation of a neuronal system. Frontiers in Computational Neuroscience, 13, 8. "
   ]
  },
  {
   "cell_type": "code",
   "execution_count": null,
   "id": "6699918f",
   "metadata": {},
   "outputs": [],
   "source": [
    "# Load synaptic connectome and neuron classes\n",
    "\n",
    "damaged_syn_conn_pd = pd.read_excel('connectome_syn.xlsx')\n",
    "damaged_syn_conn_np = np.array(damaged_syn_conn_pd)"
   ]
  },
  {
   "cell_type": "markdown",
   "id": "f7f9868d",
   "metadata": {},
   "source": [
    "## Motorneurons' activities during gentle tail touch (Damaged brain)"
   ]
  },
  {
   "cell_type": "markdown",
   "id": "5ee7ea67",
   "metadata": {},
   "source": [
    "<img src=\"damaged_AVA_motor_activities.png\" width=\"450\">"
   ]
  },
  {
   "cell_type": "markdown",
   "id": "d652d148",
   "metadata": {},
   "source": [
    "## Simulated body movement during gentle tail touch (Damaged brain)"
   ]
  },
  {
   "cell_type": "code",
   "execution_count": null,
   "id": "1a041d51",
   "metadata": {},
   "outputs": [],
   "source": [
    "from ipywidgets import Video\n",
    "\n",
    "Video.from_file(\"escape_response_damaged.mp4\", width=500, height=500)"
   ]
  },
  {
   "cell_type": "code",
   "execution_count": null,
   "id": "f7fd06c7",
   "metadata": {},
   "outputs": [],
   "source": [
    "# Re-wiring instructions for AVAL and AVAR neurons\n",
    "\n",
    "outgoing_AVAL_triples = np.load('AVAL_outgoing_triples.npy') # AVAL is the 47th vertex in the graph\n",
    "incoming_AVAL_triples = np.load('AVAL_incoming_triples.npy') # AVAL is the 47th vertex in the graph\n",
    "\n",
    "outgoing_AVAR_triples = np.load('AVAR_outgoing_triples.npy') # AVAR is the 55th vertex in the graph\n",
    "incoming_AVAR_triples = np.load('AVAR_incoming_triples.npy') # AVAR is the 55th vertex in the graph\n",
    "\n",
    "# Each row in the triple is ordered as [Source neuron index, Target neuron index, Synaptic weight]\n",
    "\n",
    "rewiring_triples_AVAL = [outgoing_AVAL_triples, incoming_AVAL_triples]\n",
    "rewiring_triples_AVAR = [outgoing_AVAR_triples, incoming_AVAR_triples]"
   ]
  },
  {
   "cell_type": "code",
   "execution_count": null,
   "id": "8ac72db3",
   "metadata": {},
   "outputs": [],
   "source": [
    "def rewire_neurons(damaged_synaptic_adj_matrix, rewiring_instructions_AVAL, rewiring_instructions_AVAR):\n",
    "    \n",
    "    # YOUR CODE HERE\n",
    "    # AVAL, AVAR neurons take the indices of 47, 55 respectively in the damaged_syn_conn_np   \n",
    "    \n",
    "    return repaired_synaptic_adj_matrix"
   ]
  },
  {
   "cell_type": "code",
   "execution_count": null,
   "id": "088073fc",
   "metadata": {},
   "outputs": [],
   "source": [
    "repaired_synaptic_adj_matrix = rewire_neurons(damaged_synaptic_adj_matrix = damaged_syn_conn_np, \n",
    "                                              rewiring_instructions_AVAL = rewiring_triples_AVAL, \n",
    "                                              rewiring_instructions_AVAR = rewiring_triples_AVAR)"
   ]
  },
  {
   "cell_type": "code",
   "execution_count": null,
   "id": "321cde4b",
   "metadata": {
    "scrolled": false
   },
   "outputs": [],
   "source": [
    "# Test your repaired connectome \n",
    "\n",
    "dw.network_sim.test_brain_repair(repaired_synaptic_adj_matrix) \n",
    "\n",
    "# If successfully repaired, function will output \n",
    "# 1) Motorneurons activity \n",
    "# 2) Simulated body movement video with repaired brain"
   ]
  }
 ],
 "metadata": {
  "kernelspec": {
   "display_name": "Python 3 (ipykernel)",
   "language": "python",
   "name": "python3"
  },
  "language_info": {
   "codemirror_mode": {
    "name": "ipython",
    "version": 3
   },
   "file_extension": ".py",
   "mimetype": "text/x-python",
   "name": "python",
   "nbconvert_exporter": "python",
   "pygments_lexer": "ipython3",
   "version": "3.9.12"
  }
 },
 "nbformat": 4,
 "nbformat_minor": 5
}
