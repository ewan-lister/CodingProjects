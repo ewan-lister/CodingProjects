{
 "cells": [
  {
   "cell_type": "markdown",
   "id": "c3cf7e0d-82f8-4b9f-9657-b986e07efca0",
   "metadata": {},
   "source": [
    "# ECE 242 Homework 1 (Due Oct 14, 5 PM PT)"
   ]
  },
  {
   "cell_type": "markdown",
   "id": "5665c6aa-5862-4aa2-8d49-25d846c601d4",
   "metadata": {},
   "source": [
    "For t$\\in$R,n$\\in$Z: **u(t)** and **u[n]** represent the unit step functions and **r(t)** and **r[n]** represent the ramp functions in continuous and discrete time domains.\n",
    "\n",
    "Complete the following exercises and submit answers as PDF (File>Save and Export As... > PDF)\n",
    "\n",
    "**1. For each of the following continuous and discrete examples, determine if the signal is periodic. If the signal is periodic, determine its fundamental period.**\n",
    "\n",
    "a. $x(t) =  \\cos(\\pi t)+2\\cos(2t)$\n",
    "\n",
    "Signal is periodic. Period is 2pi.\n",
    "\n",
    "b. $x(t) =  \\sin(\\pi t)-3\\cos(2\\pi t+\\frac{\\pi}{4}))$\n",
    "\n",
    "Signal is periodic. Period is 1.\n",
    "\n",
    "c. $x(t) = 2\\cos(\\pi t) + e^{-t}cos(2\\pi t)$\n",
    "\n",
    "Signal is aperiodic i.e, there is no value T such that $f(t) = f(t + T)$. ($f(t)$ decreases within the envelope of $e^{-t}$).\n",
    "\n",
    "d. $x[n] = A\\sin(\\frac{3\\pi}{4}n)$\n",
    "\n",
    "Periodic, while the coefficient of n is not an integer, the signal does repeat every 8 seconds, and hence the period is 8.\n",
    "\n",
    "\n",
    "e. $x[n] = (-1)^n$\n",
    "\n",
    "Periodic, T = 2\n",
    "\n"
   ]
  },
  {
   "cell_type": "code",
   "execution_count": null,
   "id": "fbb51a12",
   "metadata": {},
   "outputs": [],
   "source": []
  },
  {
   "cell_type": "markdown",
   "id": "977a205a-ab65-4da5-8f8b-5e2492b9adc2",
   "metadata": {},
   "source": [
    "**2. For each of the following continuous and discrete examples, determine if the signal is bounded. If so, determine the signal’s minimal finite upper bound.**\n",
    "\n",
    "a. $x(t) =  e^{-2t}$\n",
    "\n",
    "Unbounded, $x(t)$ has no bound when $t$ is $-\\infty$.\n",
    "\n",
    "b. $x(t) =  Ae^{-1.5|t|} $\n",
    "\n",
    "Bounded. Upper bound is A.\n",
    "\n",
    "c. $x(t) = u(t-2)u(t-3)t$\n",
    "\n",
    "Unbounded, function is equivalent to right truncated ramp function starting at $t = 3$. Ramp function has no upper bound as $t \\rightarrow \\infty$.\n",
    "\n",
    "d. $x[n] =a^{0.1n}u[-n]$ where $|a|>1$\n",
    "\n",
    "Bounded. Upper bound is 1.\n",
    "\n",
    "e. $x[n] = a^{-0.2n}$\n",
    "\n",
    "Unbounded."
   ]
  },
  {
   "cell_type": "markdown",
   "id": "c91e8187-de39-466a-8001-4235ad686b1d",
   "metadata": {},
   "source": [
    "**3. For each of the finite-energy signals, compute the energy of the signal.**\n",
    "\n",
    "a. $x(t) =  2e^{-\\frac{1}{3}|t|}$\n",
    "\n",
    "Energy = 6\n",
    "\n",
    "b. $x[n] =  u[n-2]u[3-n]n $\n",
    "\n",
    "Energy = 0.\n",
    "\n",
    "**Ans.**"
   ]
  },
  {
   "cell_type": "markdown",
   "id": "6469dc00-14d7-4d89-ba97-a99375ae1443",
   "metadata": {},
   "source": [
    "**4. Draw a plot of x(t) = = u(1 −t) + r(t) − r(t −2) − 2u(t −3) for t $\\in$ [−5,5].** \n",
    "\n",
    "\n",
    "**Ans.**"
   ]
  },
  {
   "cell_type": "markdown",
   "id": "4b0c2b6a-83a0-4cc1-ae00-67af8f64de78",
   "metadata": {},
   "source": [
    "**5. Compute and sketch y(t) = $\\frac{1}{2}$x(2(t+1))−1 where x(t) is defined in problem 4.** \n",
    "\n",
    "\n",
    "**Ans.**"
   ]
  },
  {
   "cell_type": "markdown",
   "id": "964afa9a-fd9d-4c7b-be46-9439c8ea8d53",
   "metadata": {},
   "source": [
    "**6. Draw a plot of x(t) = = x[n] = u[n+2]+2u[n+1]−5u[n]+2u[n−2] for n $\\in$ [−5,5].** \n",
    "\n",
    "\n",
    "**Ans.**"
   ]
  },
  {
   "cell_type": "markdown",
   "id": "8e52ec55-894a-439d-84e9-5fc258c854b6",
   "metadata": {},
   "source": [
    "**7. Compute and sketch the even and odd components of x(t) as defined in problem 4.** \n",
    "\n",
    "**Ans.**"
   ]
  },
  {
   "cell_type": "markdown",
   "id": "e8bab577-4f03-4fb4-bb6c-bf73f5e687bd",
   "metadata": {},
   "source": [
    "**8. Compute and sketch the even and odd components of y(t) as defined in 5.** \n",
    "\n",
    "**Ans.**"
   ]
  },
  {
   "cell_type": "markdown",
   "id": "5141746b-0904-4b74-9cec-9c22fcbca025",
   "metadata": {},
   "source": [
    "**9. Compute and sketch the even and odd components of x[n] as defined in 6.** \n",
    "\n",
    "**Ans.**"
   ]
  }
 ],
 "metadata": {
  "kernelspec": {
   "display_name": "Python 3 (ipykernel)",
   "language": "python",
   "name": "python3"
  },
  "language_info": {
   "codemirror_mode": {
    "name": "ipython",
    "version": 3
   },
   "file_extension": ".py",
   "mimetype": "text/x-python",
   "name": "python",
   "nbconvert_exporter": "python",
   "pygments_lexer": "ipython3",
   "version": "3.9.12"
  }
 },
 "nbformat": 4,
 "nbformat_minor": 5
}
