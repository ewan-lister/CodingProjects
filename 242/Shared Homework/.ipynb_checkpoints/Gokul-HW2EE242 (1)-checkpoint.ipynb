{
 "cells": [
  {
   "cell_type": "markdown",
   "id": "c3cf7e0d-82f8-4b9f-9657-b986e07efca0",
   "metadata": {},
   "source": [
    "# ECE 242 Homework 2 (Due Oct 26, 5 PM PT)"
   ]
  },
  {
   "cell_type": "markdown",
   "id": "5665c6aa-5862-4aa2-8d49-25d846c601d4",
   "metadata": {},
   "source": [
    "For t$\\in$R,n$\\in$Z: **u(t)** and **u[n]** represent the unit step functions and **r(t)** and **r[n]** represent the ramp functions in continuous and discrete time domains. **p(t)** = u(t)−u(t−1) is the unit pulse signal defined in class.\n",
    "\n",
    "Complete the following exercises and submit answers as PDF (File>Save and Export As... > PDF) (You may also use : https://www.vertopal.com/  suggested by a student)\n",
    "\n",
    "**1. For  each  of  the  following  systems  T{·},  determine  if  the  system  is  (i)  memoryless,  (ii)  causal,  (iii)  stable,  (iv) linear, (v) time-invariant. Prove your statements using the definitions for these conditions covered in lecture.**\n",
    "\n",
    "a. $T\\{x(t)\\} = -x(t+4)x(t)$\n",
    "\n",
    "b. $T\\{x[n]\\} =  x[4n+1]$\n",
    "\n",
    "c. $T\\{x[n]\\} =  \\left\\{\n",
    "\\begin{array}{ll}\n",
    "      x[n+1] & n \\geq 0 \\\\\n",
    "      x[n] & n < 0 \\\\\n",
    "\\end{array} \n",
    "\\right.  $\n",
    "\n",
    "d. $T\\{x(t)\\} = \\int_{-\\infty}^{-t} x(\\tau) d\\tau$\n",
    "\n",
    "e. $T\\{x(t)\\} = \\int_{-\\infty}^{0} \\tau^{-2}x(t-\\tau) d\\tau$\n",
    "\n",
    "**Ans.**\n",
    "\n",
    "a. (i) Not memoryless, ex) if t = 0, y(0) depends on x(4) which is in the future $ \\\\ $\n",
    "   (ii) Not causal, ex) if t = 0, y(0) depends on x(4) which is in the future $ \\\\ $\n",
    "   (iii) For $x(t) \\le M $ for all t $ \\\\\n",
    "   |y(t)| = |-x(t+4)x(t)| = |x(t+4)||x(t)| \\le M^2 \\\\ $\n",
    "            Therefore stable $ \\\\ $\n",
    "   (iv) Not linear, ex) If x(t) = t, then y(t) = $ t^2 + 4t  \\\\ $\n",
    "        y(t+1) = $ t^2 + 2t + 1 + 4t + 4 = t^2 + 6t + 5  \\\\ $\n",
    "        x(t+1) = $ t + 1 $ which is $ \\ne t^2 + 6t + 5  \\\\ $\n",
    "   (v) Time-Invariariant, $ y(t - t_0) = -x(t + 4 - t_0)x(t-t_0) \\\\ $\n",
    "       $ T{x[t-t_0]} = -x(t + 4 - t_0)x(t - t_0) \\\\ $\n",
    "       $ y(t) = T{x[t]} \\\\ \\\\ $\n",
    "\n",
    "b. (i) Not memoryless, ex) if n = 0 y[n] = x[1] which is in the future $ \\\\ $\n",
    "   (ii) Not causal, ex) if n = 0 y[n] = x[1] which is in the future $ \\\\ $\n",
    "   (iii) For x[n] $ \\le $ M for all n $ \\\\ $\n",
    "         $ |y[n]| = |x[4n + 1]| \\le M \\\\ $\n",
    "         Therefore stable $ \\\\ $\n",
    "   (iv) Not linear, if x[n] = n then at n = 0, y[n] = 1 which is nonlinear\n",
    "   (v) $ y[n - n_0] = x[4n - 4n_0 + 1] \\\\ $\n",
    "       $ T{x[n - n_0]} = x[4n - n_0 + 1] \\\\ $\n",
    "       $ y[n - n_0] \\ne T{x[n - n_0]} \\\\ \\\\ $\n",
    "       Therefore not Time Invariant\n",
    " \n",
    "c. (i) Not memoryless, ex) if n = 0, y[n] = x[n+1] which depends on a future value $ \\\\ $\n",
    "   (ii) Not causal, ex) if n = 0, y[n] = x[n+1] which depends on a future value $ \\\\ $\n",
    "   (iii) For x[n] $ \\le $ M for all n $ \\\\ $\n",
    "         $ |y[n]| = |x[n+1]| $ for n $ \\ge 0 $ and $ |y[n]| = |x[n]| $ for n $ \\le $ 0 $ \\\\ $\n",
    "         $ |y[n]| \\le M $ and $ |y[n]| \\le M \\\\ $\n",
    "         Therefore stable $ \\\\ $\n",
    "   (iv) Not linear, if x[n] = n and n = 0 then y[0] = 1, which is nonlinear\n",
    "   (v) $ y[n - n_0] = x[n - n_0 + 1] or x[n - n_0] \\\\ $\n",
    "       $ T{x[n - n_0]} = x[n - n_0 + 1] or x[n - n_0] \\\\ $\n",
    "       $ y[n - n_0] = T{x[n - n_0]} \\\\ $\n",
    "       Therefore Time-Invariant $ \\\\ \\\\ $\n",
    "\n",
    "d. (i) Memoryless, the value of y(t) depends only on x($ \\tau $) $ \\\\ $\n",
    "   (ii) Causal, a memoryless system is always causal, y(t) depends only on x($ \\tau $) $ \\\\ $\n",
    "   (iii) Not stable, ex) x($ \\tau $) = u($ \\tau $)then y(t) = r(t) which is an unbounded function\n",
    "   (iv)  Linear, T{ax(t)} = $ a\\int_{-\\infty}^{-t}{x(\\tau)} = a\\int_{-\\infty}^{-t}{x(\\tau)} $ = aT{x(t)} $ \\\\ $\n",
    "         T{x_1(t) + x_2(t)} = $ \\int_{-\\infty}^{-t}{x_1(\\tau) + x_2(\\tau)}  = \\\\ $\n",
    "         $ \\int_{-\\infty}^{-t}{x_1(\\tau)} +  \\int_{-\\infty}^{-t}{x_2(\\tau)} = T{x_1(t)} + T{x_2(t)} \\\\ $\n",
    "         Therefore both additivity and scaling proved $ \\\\ $\n",
    "   (v) Not time invariant, if x($ \\tau $) = 1 then $ x_1(t) = t $ and $ x_2(t) = x_1(t - t_0) = t-t_0 $ then $ \\\\ $\n",
    "       $ y_1(t) = \\frac{1}{2}t^2 $ and $ y_2(t) = \\frac{1}{2}t^2 - 3t_0 \\ne y_1(t - t_0) = \\frac{1}{2}(t-t_0)^2 \\\\  \\\\ $\n",
    "       \n",
    "e. (i) Memoryless, the value of y(t) depends only on x($ \\tau $) $ \\\\ $\n",
    "   (ii) Causal, a memoryless system is always causal, y(t) depends only on x($ \\tau $) $ \\\\ $\n",
    "   (iii) Not stable, ex) if x(t) = 1 then y(t) = $ -\\tau^{-1} $ from $ -\\infty $ to 0 which is unbounded $ \\\\ $\n",
    "   (iv) Not linear, if x(t) = 1 then y(t) = $ -\\tau^{-1} $ from $ -\\infty $ to 0 which has a nonzero value and is therefore unbounded $ \\\\ $\n",
    "   (v) $ y_1(t - t_0) = \\int_{-\\infty}^{0}{\\tau^{-2}x(t - t_0 - \\tau)} = T{x(t - t_0)} $ therfore time invariant"
   ]
  },
  {
   "cell_type": "markdown",
   "id": "977a205a-ab65-4da5-8f8b-5e2492b9adc2",
   "metadata": {},
   "source": [
    "**2. For  T {·}  in  question  1(a),  1(b),  and  1(c),  determine  if  the  system  is  invertible.  If  yes,  compute  the  inverse.  If no, demonstrate this fact mathematically.**\n",
    "\n",
    "**Ans.**\n",
    "\n",
    "1a) is not invertible because t = 0 and t = 4 both give the same output of 0 for x(t) = t\n",
    "\n",
    "1b) Invertible, inverse is y[$ \\frac{(n-0.25)}{4} $]\n",
    "\n",
    "1c)Invertible inverse is $ y[n-1]    n \\ge 0,    y[n] n \\lt 0 $"
   ]
  },
  {
   "cell_type": "markdown",
   "id": "c91e8187-de39-466a-8001-4235ad686b1d",
   "metadata": {},
   "source": [
    "**3. For an LTI sytem T {·}, an input x1(t) = p(t) is paired with an output signal y1(t) = T{x1(t)} = p(t) − p(t − 1). Knowing this, compute T{x2(t)} when x2(t) = p(t) − 2p(t − 1). Show all the steps and assumptions.**\n",
    "\n",
    "**Ans.**\n",
    "\n",
    "$ T\\{x(t)\\} = x(t) - x(t-1)  \\\\ $\n",
    "$ T\\{x_2(t)\\} = p(t) - 2p(t-1) - (p(t-1) - 2p(t-2)) \\\\ $\n",
    "$ = p(t) - 3p(t-1) + 2p(t-2) $"
   ]
  },
  {
   "cell_type": "code",
   "execution_count": null,
   "id": "060c8a66",
   "metadata": {},
   "outputs": [],
   "source": []
  }
 ],
 "metadata": {
  "kernelspec": {
   "display_name": "Python 3 (ipykernel)",
   "language": "python",
   "name": "python3"
  },
  "language_info": {
   "codemirror_mode": {
    "name": "ipython",
    "version": 3
   },
   "file_extension": ".py",
   "mimetype": "text/x-python",
   "name": "python",
   "nbconvert_exporter": "python",
   "pygments_lexer": "ipython3",
   "version": "3.9.12"
  }
 },
 "nbformat": 4,
 "nbformat_minor": 5
}
