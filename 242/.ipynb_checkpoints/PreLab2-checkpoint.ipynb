{
 "cells": [
  {
   "cell_type": "markdown",
   "id": "5d8548ab-80e2-4b1b-966b-899a680a2884",
   "metadata": {},
   "source": [
    "# Lab 2 Pre-lab :  Convolution\n",
    "\n",
    "In this lab, we will implement convolution on the computer to find responses of an LTI system to different signals. In particular, we will look at convolving simple discrete-time signals with two different impulse responses.  Then we’ll look at removing noise from audio signals and detecting \n",
    "edges in images using convolution. This is a two-week lab. \n",
    " \n",
    "**Lab 2 Turn-in Checklist**  \n",
    "- Pre-lab (upload to canvas before lab) \n",
    "- Lab 2 Jupyter notebook with code for the first 4 exercises assignment in separate cells. Each assignment cell should contain markdown cells (same as lab overview cells) for the responses to lab report questions. Include your lab members’ names at  the  top of the notebook. \n",
    "- 1 individual Jupyter notebook with code + markdown cells for the last exercise \n",
    "\n",
    "The rest of this document are the pre-lab exercises to be solved and answered before coming to the lab\n",
    " \n",
    "Note: The pre-lab and last exercise should be done **individually**, and all other assignments should be completed in groups of 3-4 people. "
   ]
  },
  {
   "cell_type": "markdown",
   "id": "c9489c07-ec0c-4eef-8006-d4ff5be5703f",
   "metadata": {},
   "source": [
    "Complete the following exercises and submit answers as PDF (File>Save and Export As... > PDF) (You may also use : https://www.vertopal.com/  suggested by a student)\n",
    "\n",
    "**1. Let x[n]=u[n-2]-u[n-9]. Sketch the result of convolving x[n] with each of the following signals:**  \n",
    "a. $h_1[n]=u[n]-u[n-4]$  \n",
    "b. $h_2[n]=\\delta[n]-\\delta[n-4]$  \n",
    "\n",
    "Ans."
   ]
  },
  {
   "cell_type": "markdown",
   "id": "6998f456-bfea-489f-9b99-b1304437bd79",
   "metadata": {
    "tags": []
   },
   "source": [
    "**2. You need to create a signal on the computer that is 2 seconds long and is based on a sampling rate of 1000 Hz. What python commands would you use to create the time vector?**\n",
    "\n",
    "Ans."
   ]
  },
  {
   "cell_type": "markdown",
   "id": "3b20a1ad-6d6c-4bd2-b514-aa69b1971ead",
   "metadata": {},
   "source": [
    "**3. Describe the difference between the numpy.random.rand() and the numpy.random.randn() functions.** \n",
    "\n",
    "Ans."
   ]
  }
 ],
 "metadata": {
  "kernelspec": {
   "display_name": "Python 3 (ipykernel)",
   "language": "python",
   "name": "python3"
  },
  "language_info": {
   "codemirror_mode": {
    "name": "ipython",
    "version": 3
   },
   "file_extension": ".py",
   "mimetype": "text/x-python",
   "name": "python",
   "nbconvert_exporter": "python",
   "pygments_lexer": "ipython3",
   "version": "3.9.12"
  }
 },
 "nbformat": 4,
 "nbformat_minor": 5
}
