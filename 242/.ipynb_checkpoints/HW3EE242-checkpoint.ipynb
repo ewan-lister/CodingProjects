{
 "cells": [
  {
   "cell_type": "markdown",
   "id": "c3cf7e0d-82f8-4b9f-9657-b986e07efca0",
   "metadata": {},
   "source": [
    "# ECE 242 Homework 3 (Due Nov 11, 5 PM PT)"
   ]
  },
  {
   "cell_type": "markdown",
   "id": "5665c6aa-5862-4aa2-8d49-25d846c601d4",
   "metadata": {},
   "source": [
    "**NOTE:** You will notice that some selected problems are given answers through \"Show that\" statements. Make sure you show all your work clearly for every problem. \n",
    "Throughout the assignment, 𝑢(𝑡) is the unit step function, 𝑟(𝑡)=𝑡𝑢(𝑡) and 𝑝(𝑡)=𝑢(𝑡)−𝑢(𝑡−1) \n",
    "\n",
    "\n",
    "Complete the following exercises and submit answers as PDF (File>Save and Export As... > PDF) (You may also use : https://www.vertopal.com/  suggested by a student)\n",
    "\n",
    "**1. For each of the following LTI systems, compute the system's impulse response function h(t) such that:**\n",
    "\n",
    "$$y(t)=(x*h)(t)=\\int_{-\\infty}^{\\infty}x(\\tau)h(t-\\tau)d\\tau$$\n",
    "\n",
    "**If the system is not LTI, show that this is the case.**\n",
    "\n",
    "a. $y(t)=\\sum_{k=-1}^1\\frac{1}{2}^{|k|}x(t-k)$\n",
    "\n",
    "b. $y(t)=\\int_0^t\\tau^ax(t-\\tau)d\\tau$\n",
    "\n",
    "c. $y(t)=\\int_{-\\infty}^te^{-(t-\\tau)}x(\\tau)d\\tau$\n",
    "\n",
    "d. $y[n]=-\\frac{1}{8}x[n-3]-\\frac{1}{4}x[n-2]-\\frac{1}{2}x[n-1]$\n",
    "\n",
    "**Ans.**\n"
   ]
  },
  {
   "cell_type": "markdown",
   "id": "977a205a-ab65-4da5-8f8b-5e2492b9adc2",
   "metadata": {},
   "source": [
    "**2. Given a system T with an impulse response function h(t) = p(t+2)-p(t+1) : y(t) =T[x(t)]=(x$*$h)(t), do the following:**\n",
    "\n",
    "a. Compute and sketch the step response function of the system\n",
    "\n",
    "b. Compute and sketch the system output when given the input x(t) = p($\\frac{t}{2}$+1)-(1-t)p(t)\n",
    "\n",
    "**Ans.**"
   ]
  },
  {
   "cell_type": "markdown",
   "id": "c91e8187-de39-466a-8001-4235ad686b1d",
   "metadata": {},
   "source": [
    "**3. For each of the given step responses s(t) shown below, compute and sketch the corresponding impulse response signal h(t).**\n",
    "\n",
    "a. s(t) = r(t+2) - 2r(t) + 2r(t-1) - r(t-2)\n",
    "\n",
    "b. s[n] = u[n+3] + 2r[n+1] - r[n] - u[n] - 3r[n-1] + 3r[n-3]\n",
    "\n",
    "\n",
    "**Ans.**"
   ]
  },
  {
   "cell_type": "markdown",
   "id": "4ef2ebd7-2f3a-46ab-87f8-c3791b66f906",
   "metadata": {},
   "source": [
    "**4. Let y(t)=(x$*$h)(t) with an impulse response h(t)=te^tu(-t). The output y(t) for an input x(t)=u(t+1)-u(t-2) will take the following form:**\n",
    "\n",
    "$$y(t) =  \\left\\{\n",
    "\\begin{array}{ll}\n",
    "      0 & t \\in \\{?\\} \\\\\n",
    "      \\int_{t_a}^0\\tau e^\\tau d\\tau & t \\in \\{?\\} \\\\\n",
    "      \\int_{t_a}^{t_b}\\tau e^\\tau d\\tau & t \\in \\{?\\} \\\\\n",
    "\\end{array} \n",
    "\\right.  $$\n",
    "\n",
    "a. Solve for $t_a$ and $t_b$\n",
    "\n",
    "b. Solve for the value and location of y(t)'s maximum value, i.e. $\\max_{t\\in R}\\{y(t)\\}$ and $arg\\max_{t\\in R}\\{y(t)\\}$.\n",
    "\n",
    "**Ans.**"
   ]
  },
  {
   "cell_type": "code",
   "execution_count": null,
   "id": "84df7986-0b05-4443-96a9-8fa3a99c0aed",
   "metadata": {},
   "outputs": [],
   "source": []
  }
 ],
 "metadata": {
  "kernelspec": {
   "display_name": "Python 3 (ipykernel)",
   "language": "python",
   "name": "python3"
  },
  "language_info": {
   "codemirror_mode": {
    "name": "ipython",
    "version": 3
   },
   "file_extension": ".py",
   "mimetype": "text/x-python",
   "name": "python",
   "nbconvert_exporter": "python",
   "pygments_lexer": "ipython3",
   "version": "3.9.12"
  }
 },
 "nbformat": 4,
 "nbformat_minor": 5
}
