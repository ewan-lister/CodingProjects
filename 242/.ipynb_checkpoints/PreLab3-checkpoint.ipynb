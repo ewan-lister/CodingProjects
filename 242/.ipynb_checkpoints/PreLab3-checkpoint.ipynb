{
 "cells": [
  {
   "cell_type": "markdown",
   "id": "5d8548ab-80e2-4b1b-966b-899a680a2884",
   "metadata": {},
   "source": [
    "# Lab 3 Pre-lab :  Frequency Domain Representation of Signals\n",
    "\n",
    "In this lab, we will learn how to build periodic signals from component sinusoids and how to transform signals from the time domain to the frequency domain. The concepts we’ll focus on include: implementation of the Fourier Series synthesis equation, using a discrete implementation of the Fourier Transform (DFT) with a digitized signal, and understanding the relationship between the discrete DFT index k and frequency f\n",
    "for both the original continuous signal x(t). This is a two-week lab. \n",
    " \n",
    "**Lab 3 Turn-in Checklist**  \n",
    "- Pre-lab (upload to canvas before lab) \n",
    "- Lab 3 Jupyter notebook with code for the first 4 exercises assignment in separate cells. Each assignment cell should contain markdown cells (same as lab overview cells) for the responses to lab report questions. Include your lab members’ names at  the  top of the notebook. \n",
    "- 1 individual Jupyter notebook with code + markdown cells for the last exercise \n",
    "\n",
    "The rest of this document are the pre-lab exercises to be solved and answered before coming to the lab.\n",
    " \n",
    "Note: The pre-lab and last exercise should be done **individually**, and all other assignments should be completed in groups of 3-4 people. "
   ]
  },
  {
   "cell_type": "markdown",
   "id": "c9489c07-ec0c-4eef-8006-d4ff5be5703f",
   "metadata": {},
   "source": [
    "Complete the following exercises and submit answers as PDF (File>Save and Export As... > PDF) (You may also use : https://www.vertopal.com/  suggested by a student)\n",
    "\n",
    "**1. A periodic signal has Fourier series coefficients $a_0 = 0.5$ and $a_k= 1 /(jk\\pi)$ for all other k and period T= 50ms. Give an equation for synthesizing this signal with sinusoids.**  \n",
    "\n",
    "$$ x(t) = 0.5 + \\sum_{k=1}^{\\infty} \\frac{1}{jk\\pi} (e^{-jk\\omega t}+e^{-jk\\omega t}) $$ "
   ]
  },
  {
   "cell_type": "markdown",
   "id": "6998f456-bfea-489f-9b99-b1304437bd79",
   "metadata": {
    "tags": []
   },
   "source": [
    "**2. Write the Python code for synthesizing a periodic signal with inputs: length T (in seconds), Fourier coefficients {$a_0,...,a_N$}, fundamental frequency $f_0$, and sampling rate $F_s$(in Hz).**\n",
    "\n"
   ]
  },
  {
   "cell_type": "code",
   "execution_count": null,
   "id": "d5d136a0",
   "metadata": {},
   "outputs": [],
   "source": [
    "import numpy as np\n",
    "\n",
    "def synth(length, coefficients, f0, fs):\n",
    "    sample_length = fs*length\n",
    "    time = np.linspace(0, length, sample_length)\n",
    "    signal = np.zeros(0, sample_length)\n",
    "    \n",
    "    for sample in range(sample_length):\n",
    "        for coef in range(len(coefficients)):\n",
    "            signal[sample] = signal[sample] + coefficients[coef] * (exp(j * f0 * coef * time[sample]))\n",
    "    \n",
    "    return signal, time\n",
    "\n"
   ]
  },
  {
   "cell_type": "markdown",
   "id": "3b20a1ad-6d6c-4bd2-b514-aa69b1971ead",
   "metadata": {},
   "source": [
    "**3. In your lab, you will work with music and other natural signals. If the sampling rate is $F_s= 11025$Hz, what sample corresponds to a start time of 200ms?** \n",
    "\n",
    "Ans.\n",
    "\n",
    "$ 11025 * 0.200 = 2205 $\n",
    "\n",
    "The 2205th sample."
   ]
  },
  {
   "cell_type": "code",
   "execution_count": null,
   "id": "fb702642",
   "metadata": {},
   "outputs": [],
   "source": []
  }
 ],
 "metadata": {
  "kernelspec": {
   "display_name": "Python 3 (ipykernel)",
   "language": "python",
   "name": "python3"
  },
  "language_info": {
   "codemirror_mode": {
    "name": "ipython",
    "version": 3
   },
   "file_extension": ".py",
   "mimetype": "text/x-python",
   "name": "python",
   "nbconvert_exporter": "python",
   "pygments_lexer": "ipython3",
   "version": "3.9.12"
  }
 },
 "nbformat": 4,
 "nbformat_minor": 5
}
