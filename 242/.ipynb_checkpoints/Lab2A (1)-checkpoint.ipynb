{
 "cells": [
  {
   "cell_type": "code",
   "execution_count": null,
   "metadata": {},
   "outputs": [],
   "source": []
  },
  {
   "cell_type": "markdown",
   "metadata": {},
   "source": [
    "## EE 242 Lab 2a – Convolution - Convolving and Smoothing\n",
    "\n",
    "Ewan, Tyson, Sean\n",
    "\n",
    "This lab has 2 exercises to be completed as a team. Each should be given a separate code cell in your Notebook, followed by a markdown cell with report discussion. Your notebook should start with a markdown title and overview cell, which should be followed by an import cell that has the import statements for all assignments. For this assignment, you will need to import: numpy, the wavfile package from scipy.io, simpleaudio/librosa, and matplotlib.pyplot.  "
   ]
  },
  {
   "cell_type": "code",
   "execution_count": 2,
   "metadata": {},
   "outputs": [],
   "source": [
    "# We'll refer to this as the \"import cell.\" Every module you import should be imported here.\n",
    "%matplotlib notebook\n",
    "import numpy as np\n",
    "import matplotlib\n",
    "import scipy.signal as sig\n",
    "import matplotlib.pyplot as plt\n",
    "# import whatever other modules you use in this lab -- there are more that you need than we've included \n"
   ]
  },
  {
   "cell_type": "markdown",
   "metadata": {},
   "source": [
    "## Summary\n",
    "\n",
    "In this lab, you will work through a series of exercises to introduce you to working with audio signals and explore the impact of different amplitude and time operations on signals.  This is a two-week lab.  You should plan on completing the first 2 assignments in the first week."
   ]
  },
  {
   "cell_type": "markdown",
   "metadata": {},
   "source": [
    "## Lab 2a turn in checklist\n",
    "\n",
    "•\tLab 2a Jupyter notebook with code for the 2 exercises assignment in separate cells. Each assignment cell should contain markdown cells (same as lab overview cells) for the responses to lab report questions. Include your lab members’ names at the top of the notebook.\n",
    "\n",
    "**Please submit the report as PDF** (You may also use : https://www.vertopal.com/  suggested by a student)\n",
    "\n",
    "\n"
   ]
  },
  {
   "cell_type": "markdown",
   "metadata": {
    "tags": []
   },
   "source": [
    "## Assignment 1 -- Convolving Simple Signals\n",
    "\n",
    "We will start by doing some simple convolutions similar to what you saw in class. Create a new cell in your Lab 2 notebook for Assignment 1. This assignment will have three parts, A-C.\n",
    "\n",
    "**A.** Create the following three discrete-time signals, assuming a time range of [0,12].  \n",
    "x = a box of height 1 starting at time n=2 and ending at n=8  \n",
    "h1 = a pulse of length 4 & height 1 starting at time 0  \n",
    "h2 = 1 at n=0, -1 at n=1, and 0 otherwise  \n",
    "\n",
    "**B.**  Use numpy.convolve() function to find y1=$x*h1$ and y2=$x*h2$ (where $*$ indicates convolution, not multiplication).\n",
    "\n",
    "**C.**  Create a time vectors nx, ny1 and ny2 for plotting x, y1 and y2. Use the stem plotting function to plot the signals on a 3x1 subplot, using a y-axis between -2 and 5 and a time axis from 0 to 20. Label and title the graphs. Verify that the signals for (y1) and (y2) match what you expect from your prelab. "
   ]
  },
  {
   "cell_type": "code",
   "execution_count": 1,
   "metadata": {},
   "outputs": [],
   "source": [
    "# Assignment 1 - Time Scaling Function\n",
    "\n",
    "# Part A\n",
    "\n",
    "# Create three discrete-time signals, assuming a time range of [0,12]\n",
    "# x: input signal vector, a box of height 1 starting at time n=2 and ending at n=8\n",
    "# h1: a pulse of length 4 & height 1 starting at time 0\n",
    "# h2 = 1 at n=0, -1 at n=1, and 0 otherwise\n",
    "\n",
    "time_range = np.linspace()\n",
    "# TODO: Code that solves B\n",
    "\n",
    "# Part B\n",
    "# Find the responses y1=x*h1 and y2=x*h2\n",
    "# TODO: Code that solves B\n",
    "\n",
    "# Part C\n",
    "# Plot x, y1 and y2 in a 3x1 plot\n",
    "# TODO: Code that solves C\n",
    "\n"
   ]
  },
  {
   "cell_type": "markdown",
   "metadata": {},
   "source": [
    "###  Discussion\n",
    "\n",
    "The systems corresponding to impulse responses $h_1$[n] and $h_2$[n] capture different information about a signal. Comment on what aspects of the input signal correspond to the largest values of $y_1$[n] and $y_2$[n]."
   ]
  },
  {
   "cell_type": "markdown",
   "metadata": {},
   "source": [
    "## Assignment 2 -- Smoothing Signals\n",
    "\n",
    "In this assignment, we’ll implement a moving window smoothing function to show how you can use convolution to remove noise from a signal. We’ll use a discrete signal associated with a sampling period, and plot signals as if they were continuous to make it easier to see the effect of smoothing. The base signal is generated randomly, so you can run the cell multiple times to see how the results look for different signals.  This assignment will have three parts, A-C.\n",
    "\n",
    "**A.**  Using the starter code provided, create a base time signal and a noisy version of it by adding random noise generated with the numpy.random.randn() function (the standard normal distribution, which is zero mean and unit variance). Plot the original and noisy signals with 2x1 subplots, with the time axis labeled assuming a sampling rate of 1000 Hz. Constrain the y-axis to be [0,25] for all plots. \n",
    "\n",
    "**B.**  Create a smoothed version of the signal called filtsig1 by computing the average value over a +/- k samples using the numpy.mean() function and k=20. You will need to make a decision as to how to handle the first and last k samples, for which there won’t be a full k samples available in both directions. In a single plot, plot the noisy signal and the filtered signal overlaid on the original signal.\n",
    "\n",
    "**C.**  Define a vector hfilt that corresponds to box of length N=2k+1 and height 1/N. Create a second smoothed version of the signal called filtsig2 by convolving the base signal with hfilt using the numpy.convolve() function. Plot the two different filtered signal outputs overlaid on each other. Note that the convolve function will change the length, so you will need to define a new time vector for that. \n",
    "\n"
   ]
  },
  {
   "cell_type": "code",
   "execution_count": 4,
   "metadata": {
    "tags": []
   },
   "outputs": [],
   "source": [
    "# Assignment 2 - Smoothing Signals\n",
    "\n",
    "# Part A\n",
    "# set up relevant parameters\n",
    "srate = 1000 # sampling rate in Hz\n",
    "time  = np.arange(0,2,1/srate) # associated time vector that corresponds to 2 seconds\n",
    "n     = len(time) # length of the time vector\n",
    "\n",
    "# here is a base signal to work with, values of signal points chosen randomly\n",
    "p     = 10 # points for piecewise linear signal\n",
    "amp = 20   # amplitude range of base signal\n",
    "base = np.interp(np.linspace(0,p,n),np.arange(0,p),np.random.rand(p)*amp)\n",
    "\n",
    "# create some random noise to be added to the abve base signals\n",
    "noiseamp = 2\n",
    "noise  = noiseamp * np.random.randn(n)\n",
    "\n",
    "# add noise to the base signals to create new noisy signals\n",
    "# TODO: Code that solves the rest of A\n",
    "\n",
    "# Part B\n",
    "# implement the running mean filter with a for loop\n",
    "# TODO: Code that solves B\n",
    "\n",
    "# Part C\n",
    "# implement smoothing using convolution\n",
    "# TODO: Code that solves C"
   ]
  },
  {
   "cell_type": "markdown",
   "metadata": {},
   "source": [
    "###  Discussion\n",
    "\n",
    "Describe the differences in the results using the two methods and explain these differences in terms of system properties. Comment on how the results and plots change when you amplify the noise more and also change the value of k.  "
   ]
  }
 ],
 "metadata": {
  "kernelspec": {
   "display_name": "Python 3 (ipykernel)",
   "language": "python",
   "name": "python3"
  },
  "language_info": {
   "codemirror_mode": {
    "name": "ipython",
    "version": 3
   },
   "file_extension": ".py",
   "mimetype": "text/x-python",
   "name": "python",
   "nbconvert_exporter": "python",
   "pygments_lexer": "ipython3",
   "version": "3.9.12"
  }
 },
 "nbformat": 4,
 "nbformat_minor": 4
}
