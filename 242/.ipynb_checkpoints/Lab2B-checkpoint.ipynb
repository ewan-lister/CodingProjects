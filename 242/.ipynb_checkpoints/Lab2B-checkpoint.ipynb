{
 "cells": [
  {
   "cell_type": "markdown",
   "metadata": {},
   "source": [
    "## EE 242 Lab 2b – Convolution - Denoising audio signals and images\n",
    "\n",
    "Author names go here \n",
    "\n",
    "This lab has 2 exercises to be completed as a team. Each should be given a separate code cell in your Notebook, followed by a markdown cell with report discussion. Your notebook should start with a markdown title and overview cell, which should be followed by an import cell that has the import statements for all assignments. For this assignment, you will need to import: numpy, the wavfile package from scipy.io, simpleaudio/librosa, and matplotlib.pyplot.  "
   ]
  },
  {
   "cell_type": "code",
   "execution_count": 1,
   "metadata": {},
   "outputs": [],
   "source": [
    "# We'll refer to this as the \"import cell.\" Every module you import should be imported here.\n",
    "%matplotlib notebook\n",
    "import numpy as np\n",
    "import matplotlib\n",
    "import scipy.signal as sig\n",
    "import matplotlib.pyplot as plt\n",
    "# import whatever other modules you use in this lab -- there are more that you need than we've included \n"
   ]
  },
  {
   "cell_type": "markdown",
   "metadata": {},
   "source": [
    "## Summary\n",
    "\n",
    "In this lab, you will work through a series of exercises to introduce you to working with audio signals and explore the impact of different amplitude and time operations on signals.  This is a two-week lab.  You should plan on completing the first 2 assignments in the first week."
   ]
  },
  {
   "cell_type": "markdown",
   "metadata": {},
   "source": [
    "## Lab 2b turn in checklist\n",
    "\n",
    "•\tLab 2b Jupyter notebook with code for the 2 exercises assignment in separate cells. Each assignment cell should contain markdown cells (same as lab overview cells) for the responses to lab report questions. Include your lab members’ names at the top of the notebook.\n",
    "\n",
    "**Please submit the report as PDF** (You may also use : https://www.vertopal.com/  suggested by a student)\n",
    "\n",
    "\n"
   ]
  },
  {
   "cell_type": "markdown",
   "metadata": {
    "tags": []
   },
   "source": [
    "## Assignment 3 -- Removing Noise from an Audio Signal\n",
    "\n",
    "In this assignment, we’ll artificially add noise to an audio signal and then apply the system you used in Assignment 2 to remove it. You will need the audio packages that you used in Lab 1. This assignment will have three parts, A-C\n",
    "\n",
    "**A.** Read in the trombone sound file provided and name it tr_orig.  This is a mono signal, so we will only need to worry about the single channel. Create a noise sequence that is the length of tr_orig using the numpy.random.randn() noise generation function with a scaling factor of 100. (It needs to be larger to be audible given the range of tr_orig.) Then add the two signals to create tr_noisy.  Save tr_noisy to a new wav file.\n",
    "\n",
    "**B.**  Apply the convolution filter from Assignment 2 to remove the noise from tr_noisy, creating a signal called tr_filt. Save this signal as a wav file.\n",
    "\n",
    "**C.** Read in both the noisy and filtered versions using simpleaudio and play the two files and the original to hear the effect of the noise and noise removal. "
   ]
  },
  {
   "cell_type": "code",
   "execution_count": 3,
   "metadata": {},
   "outputs": [],
   "source": [
    "# Assignment 3 - Code goes here\n"
   ]
  },
  {
   "cell_type": "markdown",
   "metadata": {},
   "source": [
    "###  Discussion\n",
    "\n",
    "Comment on the differences in how the original and noise-removed signals sound. Comment on the impact of large increases or decreases in the value of k. "
   ]
  },
  {
   "cell_type": "markdown",
   "metadata": {},
   "source": [
    "## Assignment 4 -- Convolution with Images\n",
    "\n",
    "This assignment is meant to introduce you to convolution of signals in higher dimensions. A canonical example of a 2D signal is an image. With a time signal, the impulse response has a single independent variable (time), so a discrete-time convolution has a sum over that variable. With a 2-D image, the impulse response is 2-D, so the convolution involves a double sum. Be sure to import the scipy ndimage and skimage color packages. This assignment will have four parts, A-D. Put part A (a function you will define) in its own cell and the other parts together in a separate cell. Be sure to provide a title for all the images you are plotting in each part.\n",
    "\n",
    "**A.**  Write a function that takes an image as input and runs the Sobel edge detector (described in the background document) and returns 3 images: the horizontal edges, the vertical edges and the combined result.   \n",
    "\n",
    "**B.**  Start a new cell and read in the image of a dragonfly provided, and convert it to grayscale. Note that the variable ‘image’ will have normalized 8-bit (0 - 1) pixel brightness values. Run the edge detector function on the dragonfly image and display the original with the 3 \n",
    "outputs in a 2 by 2 figure.\n",
    "\n",
    "**C.**  Define a 10x10 kernel where all elements have value 0.01. This impulse response is giving an average over the 10x10 window, and it should have a smoothing effect on the image, similar to the moving window for the time signal.  Convolve the image with this filter using ndimage.convolve(). Plot the original and the smoothed image side by side.  You should notice that smoothing blurs the image a little.\n",
    "\n",
    "**D.** Run the edge detector function on the smoothed dragonfly image and plot the result side-by-side with the result from the edge detector on the original image.\n",
    "\n"
   ]
  },
  {
   "cell_type": "code",
   "execution_count": 4,
   "metadata": {
    "tags": []
   },
   "outputs": [],
   "source": [
    "# Assignment 4 - Code Goes here\n",
    "\n"
   ]
  },
  {
   "cell_type": "markdown",
   "metadata": {},
   "source": [
    "###  Discussion\n",
    "\n",
    "Describe the differences in the results using the edge detector on the original vs. smoothed image. Comment on how the results change if you use a larger size smoothing filter."
   ]
  }
 ],
 "metadata": {
  "kernelspec": {
   "display_name": "Python 3 (ipykernel)",
   "language": "python",
   "name": "python3"
  },
  "language_info": {
   "codemirror_mode": {
    "name": "ipython",
    "version": 3
   },
   "file_extension": ".py",
   "mimetype": "text/x-python",
   "name": "python",
   "nbconvert_exporter": "python",
   "pygments_lexer": "ipython3",
   "version": "3.9.12"
  }
 },
 "nbformat": 4,
 "nbformat_minor": 4
}
